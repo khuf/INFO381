{
 "cells": [
  {
   "cell_type": "markdown",
   "metadata": {},
   "source": [
    "# Prejudice removal\n",
    "\n",
    "**Uses the Prejudice removal in-processing algorithm from the AIF360 toolkit. Adds a discrimination-aware regularization term to the learning objective** \n",
    "\n",
    "See https://aif360.readthedocs.io/en/latest/modules/generated/aif360.algorithms.inprocessing.PrejudiceRemover.html <br />\n",
    "See http://aif360.mybluemix.net/resources#guidance for guidance on metrics and mitigation algorithms"
   ]
  },
  {
   "cell_type": "code",
   "execution_count": 2,
   "metadata": {},
   "outputs": [
    {
     "name": "stderr",
     "output_type": "stream",
     "text": [
      "/home/khuf/Projects/INFO381/.venv/lib/python3.6/site-packages/tensorflow/python/framework/dtypes.py:516: FutureWarning: Passing (type, 1) or '1type' as a synonym of type is deprecated; in a future version of numpy, it will be understood as (type, (1,)) / '(1,)type'.\n",
      "  _np_qint8 = np.dtype([(\"qint8\", np.int8, 1)])\n",
      "/home/khuf/Projects/INFO381/.venv/lib/python3.6/site-packages/tensorflow/python/framework/dtypes.py:517: FutureWarning: Passing (type, 1) or '1type' as a synonym of type is deprecated; in a future version of numpy, it will be understood as (type, (1,)) / '(1,)type'.\n",
      "  _np_quint8 = np.dtype([(\"quint8\", np.uint8, 1)])\n",
      "/home/khuf/Projects/INFO381/.venv/lib/python3.6/site-packages/tensorflow/python/framework/dtypes.py:518: FutureWarning: Passing (type, 1) or '1type' as a synonym of type is deprecated; in a future version of numpy, it will be understood as (type, (1,)) / '(1,)type'.\n",
      "  _np_qint16 = np.dtype([(\"qint16\", np.int16, 1)])\n",
      "/home/khuf/Projects/INFO381/.venv/lib/python3.6/site-packages/tensorflow/python/framework/dtypes.py:519: FutureWarning: Passing (type, 1) or '1type' as a synonym of type is deprecated; in a future version of numpy, it will be understood as (type, (1,)) / '(1,)type'.\n",
      "  _np_quint16 = np.dtype([(\"quint16\", np.uint16, 1)])\n",
      "/home/khuf/Projects/INFO381/.venv/lib/python3.6/site-packages/tensorflow/python/framework/dtypes.py:520: FutureWarning: Passing (type, 1) or '1type' as a synonym of type is deprecated; in a future version of numpy, it will be understood as (type, (1,)) / '(1,)type'.\n",
      "  _np_qint32 = np.dtype([(\"qint32\", np.int32, 1)])\n",
      "/home/khuf/Projects/INFO381/.venv/lib/python3.6/site-packages/tensorflow/python/framework/dtypes.py:525: FutureWarning: Passing (type, 1) or '1type' as a synonym of type is deprecated; in a future version of numpy, it will be understood as (type, (1,)) / '(1,)type'.\n",
      "  np_resource = np.dtype([(\"resource\", np.ubyte, 1)])\n"
     ]
    },
    {
     "name": "stdout",
     "output_type": "stream",
     "text": [
      "Matplotlib Error, comment out matplotlib.use('TkAgg')\n"
     ]
    },
    {
     "name": "stderr",
     "output_type": "stream",
     "text": [
      "/home/khuf/Projects/INFO381/.venv/lib/python3.6/site-packages/tensorboard/compat/tensorflow_stub/dtypes.py:541: FutureWarning: Passing (type, 1) or '1type' as a synonym of type is deprecated; in a future version of numpy, it will be understood as (type, (1,)) / '(1,)type'.\n",
      "  _np_qint8 = np.dtype([(\"qint8\", np.int8, 1)])\n",
      "/home/khuf/Projects/INFO381/.venv/lib/python3.6/site-packages/tensorboard/compat/tensorflow_stub/dtypes.py:542: FutureWarning: Passing (type, 1) or '1type' as a synonym of type is deprecated; in a future version of numpy, it will be understood as (type, (1,)) / '(1,)type'.\n",
      "  _np_quint8 = np.dtype([(\"quint8\", np.uint8, 1)])\n",
      "/home/khuf/Projects/INFO381/.venv/lib/python3.6/site-packages/tensorboard/compat/tensorflow_stub/dtypes.py:543: FutureWarning: Passing (type, 1) or '1type' as a synonym of type is deprecated; in a future version of numpy, it will be understood as (type, (1,)) / '(1,)type'.\n",
      "  _np_qint16 = np.dtype([(\"qint16\", np.int16, 1)])\n",
      "/home/khuf/Projects/INFO381/.venv/lib/python3.6/site-packages/tensorboard/compat/tensorflow_stub/dtypes.py:544: FutureWarning: Passing (type, 1) or '1type' as a synonym of type is deprecated; in a future version of numpy, it will be understood as (type, (1,)) / '(1,)type'.\n",
      "  _np_quint16 = np.dtype([(\"quint16\", np.uint16, 1)])\n",
      "/home/khuf/Projects/INFO381/.venv/lib/python3.6/site-packages/tensorboard/compat/tensorflow_stub/dtypes.py:545: FutureWarning: Passing (type, 1) or '1type' as a synonym of type is deprecated; in a future version of numpy, it will be understood as (type, (1,)) / '(1,)type'.\n",
      "  _np_qint32 = np.dtype([(\"qint32\", np.int32, 1)])\n",
      "/home/khuf/Projects/INFO381/.venv/lib/python3.6/site-packages/tensorboard/compat/tensorflow_stub/dtypes.py:550: FutureWarning: Passing (type, 1) or '1type' as a synonym of type is deprecated; in a future version of numpy, it will be understood as (type, (1,)) / '(1,)type'.\n",
      "  np_resource = np.dtype([(\"resource\", np.ubyte, 1)])\n"
     ]
    }
   ],
   "source": [
    "%matplotlib inline\n",
    "import os\n",
    "import sys\n",
    "sys.path.insert(0, os.path.abspath('../datasets'))\n",
    "import numpy as np\n",
    "from tqdm import tqdm\n",
    "from warnings import warn\n",
    "import pandas as pd\n",
    "\n",
    "from IPython.display import Markdown, display\n",
    "from aif360.metrics import BinaryLabelDatasetMetric\n",
    "from aif360.metrics import ClassificationMetric\n",
    "from common_utils import compute_metrics\n",
    "from sklearn.preprocessing import MaxAbsScaler\n",
    "import matplotlib.pyplot as plt\n",
    "\n",
    "from aif360.algorithms.inprocessing import PrejudiceRemover\n",
    "\n",
    "# Import employment dataset \n",
    "from EmploymentDataset import EmploymentDataset\n",
    "from util import preprocess_employment"
   ]
  },
  {
   "cell_type": "code",
   "execution_count": 3,
   "metadata": {},
   "outputs": [
    {
     "name": "stdout",
     "output_type": "stream",
     "text": [
      "[1. 0.]\n"
     ]
    }
   ],
   "source": [
    "privileged_groups = [{'Sex': 1}]\n",
    "unprivileged_groups = [{'Sex': 0}]\n",
    "\n",
    "# Fairness penalty paramenters\n",
    "eta = [0.0, 1.0, 2.0, 3.0, 4.0, 5.0, 10.0, 15.0, 20.0, 30.0, 40.0, 50.0, 100.0, 150.0, 200.0, 250.0, 300.0] \n",
    "\n",
    "#eta = [0.0, 1.0, 2.0]\n",
    "\n",
    "prejudice_remover = PrejudiceRemover(eta=300, sensitive_attr = 'Sex', class_attr='EmploymentStatus')\n",
    "prejudice_no_penalty = PrejudiceRemover(eta= 0.0, sensitive_attr = 'Sex', class_attr='EmploymentStatus')\n",
    " \n",
    "# Import the dataset\n",
    "dataset_orig = preprocess_employment(['Sex'])\n",
    "\n",
    "# Split dataset 70/30\n",
    "dataset_orig_train, dataset_orig_test = dataset_orig.split([0.7], shuffle=True)"
   ]
  },
  {
   "cell_type": "code",
   "execution_count": 4,
   "metadata": {},
   "outputs": [
    {
     "data": {
      "text/markdown": [
       "#### Original training dataset"
      ],
      "text/plain": [
       "<IPython.core.display.Markdown object>"
      ]
     },
     "metadata": {},
     "output_type": "display_data"
    },
    {
     "name": "stdout",
     "output_type": "stream",
     "text": [
      "Train set: Difference in mean outcomes between unprivileged and privileged groups = -0.098079\n",
      "Test set: Difference in mean outcomes between unprivileged and privileged groups = -0.089304\n"
     ]
    }
   ],
   "source": [
    "# Metric for the original dataset\n",
    "metric_orig_train = BinaryLabelDatasetMetric(dataset_orig_train, \n",
    "                                             unprivileged_groups=unprivileged_groups,\n",
    "                                             privileged_groups=privileged_groups)\n",
    "display(Markdown(\"#### Original training dataset\"))\n",
    "print(\"Train set: Difference in mean outcomes between unprivileged and privileged groups = %f\" % metric_orig_train.mean_difference())\n",
    "metric_orig_test = BinaryLabelDatasetMetric(dataset_orig_test, \n",
    "                                             unprivileged_groups=unprivileged_groups,\n",
    "                                             privileged_groups=privileged_groups)\n",
    "print(\"Test set: Difference in mean outcomes between unprivileged and privileged groups = %f\" % metric_orig_test.mean_difference())"
   ]
  },
  {
   "cell_type": "code",
   "execution_count": 5,
   "metadata": {},
   "outputs": [
    {
     "data": {
      "text/markdown": [
       "#### Scaled dataset - Verify that the scaling does not affect the group label statistics"
      ],
      "text/plain": [
       "<IPython.core.display.Markdown object>"
      ]
     },
     "metadata": {},
     "output_type": "display_data"
    },
    {
     "name": "stdout",
     "output_type": "stream",
     "text": [
      "Train set: Difference in mean outcomes between unprivileged and privileged groups = -0.098079\n",
      "Test set: Difference in mean outcomes between unprivileged and privileged groups = -0.089304\n"
     ]
    }
   ],
   "source": [
    "min_max_scaler = MaxAbsScaler()\n",
    "dataset_orig_train.features = min_max_scaler.fit_transform(dataset_orig_train.features)\n",
    "dataset_orig_test.features = min_max_scaler.transform(dataset_orig_test.features)\n",
    "metric_scaled_train = BinaryLabelDatasetMetric(dataset_orig_train, \n",
    "                             unprivileged_groups=unprivileged_groups,\n",
    "                             privileged_groups=privileged_groups)\n",
    "display(Markdown(\"#### Scaled dataset - Verify that the scaling does not affect the group label statistics\"))\n",
    "print(\"Train set: Difference in mean outcomes between unprivileged and privileged groups = %f\" % metric_scaled_train.mean_difference())\n",
    "metric_scaled_test = BinaryLabelDatasetMetric(dataset_orig_test, \n",
    "                             unprivileged_groups=unprivileged_groups,\n",
    "                             privileged_groups=privileged_groups)\n",
    "print(\"Test set: Difference in mean outcomes between unprivileged and privileged groups = %f\" % metric_scaled_test.mean_difference())"
   ]
  },
  {
   "cell_type": "code",
   "execution_count": 6,
   "metadata": {},
   "outputs": [
    {
     "data": {
      "text/plain": [
       "<aif360.algorithms.inprocessing.prejudice_remover.PrejudiceRemover at 0x7f80cd203550>"
      ]
     },
     "execution_count": 6,
     "metadata": {},
     "output_type": "execute_result"
    }
   ],
   "source": [
    "# Train the model\n",
    "prejudice_no_penalty.fit(dataset_orig_train)"
   ]
  },
  {
   "cell_type": "code",
   "execution_count": 7,
   "metadata": {},
   "outputs": [],
   "source": [
    "# Apply the unconstrained model to test data\n",
    "dataset_train_transformed_plain = prejudice_no_penalty.predict(dataset_orig_train)\n",
    "dataset_test_transformed_plain = prejudice_no_penalty.predict(dataset_orig_test)"
   ]
  },
  {
   "cell_type": "code",
   "execution_count": 8,
   "metadata": {},
   "outputs": [
    {
     "data": {
      "text/markdown": [
       "## No fairness contraints - dataset metrics"
      ],
      "text/plain": [
       "<IPython.core.display.Markdown object>"
      ]
     },
     "metadata": {},
     "output_type": "display_data"
    },
    {
     "data": {
      "text/markdown": [
       "#### Model without debiasing - dataset metrics"
      ],
      "text/plain": [
       "<IPython.core.display.Markdown object>"
      ]
     },
     "metadata": {},
     "output_type": "display_data"
    },
    {
     "name": "stdout",
     "output_type": "stream",
     "text": [
      "Train set: Difference in mean outcomes between unprivileged and privileged groups = -0.025933\n",
      "Test set: Difference in mean outcomes between unprivileged and privileged groups = -0.020669\n"
     ]
    },
    {
     "data": {
      "text/markdown": [
       "#### Model without debiasing - classification metrics"
      ],
      "text/plain": [
       "<IPython.core.display.Markdown object>"
      ]
     },
     "metadata": {},
     "output_type": "display_data"
    },
    {
     "name": "stdout",
     "output_type": "stream",
     "text": [
      "Test set: Classification accuracy = 0.815069\n",
      "Test set: Balanced classification accuracy = 0.662604\n",
      "Test set: Disparate impact = 0.976715\n",
      "Test set: Equal opportunity difference = -0.024389\n",
      "Test set: Average odds difference = 0.046790\n",
      "Test set: Theil_index = 0.077106\n"
     ]
    }
   ],
   "source": [
    "# Metrics for the dataset from model without debiasing\n",
    "display(Markdown(\"## No fairness contraints - dataset metrics\"))\n",
    "display(Markdown(\"#### Model without debiasing - dataset metrics\"))\n",
    "metric_dataset_prejudiceremover_train = BinaryLabelDatasetMetric(dataset_train_transformed_plain, \n",
    "                                             unprivileged_groups=unprivileged_groups,\n",
    "                                             privileged_groups=privileged_groups)\n",
    "\n",
    "print(\"Train set: Difference in mean outcomes between unprivileged and privileged groups = %f\" % metric_dataset_prejudiceremover_train.mean_difference())\n",
    "\n",
    "metric_dataset_prejudiceremover_test = BinaryLabelDatasetMetric(dataset_test_transformed_plain, \n",
    "                                             unprivileged_groups=unprivileged_groups,\n",
    "                                             privileged_groups=privileged_groups)\n",
    "\n",
    "print(\"Test set: Difference in mean outcomes between unprivileged and privileged groups = %f\" % metric_dataset_prejudiceremover_test.mean_difference())\n",
    "\n",
    "display(Markdown(\"#### Model without debiasing - classification metrics\"))\n",
    "classified_metric_prejudiceremover_test = ClassificationMetric(dataset_orig_test, \n",
    "                                                 dataset_test_transformed_plain,\n",
    "                                                 unprivileged_groups=unprivileged_groups,\n",
    "                                                 privileged_groups=privileged_groups)\n",
    "print(\"Test set: Classification accuracy = %f\" % classified_metric_prejudiceremover_test.accuracy())\n",
    "TPR = classified_metric_prejudiceremover_test.true_positive_rate()\n",
    "TNR = classified_metric_prejudiceremover_test.true_negative_rate()\n",
    "bal_acc_predjudiceremover_test = 0.5*(TPR+TNR)\n",
    "print(\"Test set: Balanced classification accuracy = %f\" % bal_acc_predjudiceremover_test)\n",
    "print(\"Test set: Disparate impact = %f\" % classified_metric_prejudiceremover_test.disparate_impact())\n",
    "print(\"Test set: Equal opportunity difference = %f\" % classified_metric_prejudiceremover_test.equal_opportunity_difference())\n",
    "print(\"Test set: Average odds difference = %f\" % classified_metric_prejudiceremover_test.average_odds_difference())\n",
    "print(\"Test set: Theil_index = %f\" % classified_metric_prejudiceremover_test.theil_index())"
   ]
  },
  {
   "cell_type": "code",
   "execution_count": 9,
   "metadata": {},
   "outputs": [
    {
     "data": {
      "text/plain": [
       "<aif360.algorithms.inprocessing.prejudice_remover.PrejudiceRemover at 0x7f80cd203518>"
      ]
     },
     "execution_count": 9,
     "metadata": {},
     "output_type": "execute_result"
    }
   ],
   "source": [
    "prejudice_remover.fit(dataset_orig_train)"
   ]
  },
  {
   "cell_type": "code",
   "execution_count": 10,
   "metadata": {},
   "outputs": [],
   "source": [
    "# Apply the prejudice remover model to test data\n",
    "dataset_train_transformed = prejudice_remover.predict(dataset_orig_train)\n",
    "dataset_test_transformed = prejudice_remover.predict(dataset_orig_test)"
   ]
  },
  {
   "cell_type": "code",
   "execution_count": 11,
   "metadata": {},
   "outputs": [
    {
     "data": {
      "text/markdown": [
       "## No fairness contraints - dataset metrics"
      ],
      "text/plain": [
       "<IPython.core.display.Markdown object>"
      ]
     },
     "metadata": {},
     "output_type": "display_data"
    },
    {
     "data": {
      "text/markdown": [
       "#### Model without debiasing - dataset metrics"
      ],
      "text/plain": [
       "<IPython.core.display.Markdown object>"
      ]
     },
     "metadata": {},
     "output_type": "display_data"
    },
    {
     "name": "stdout",
     "output_type": "stream",
     "text": [
      "Train set: Difference in mean outcomes between unprivileged and privileged groups = -0.025933\n",
      "Test set: Difference in mean outcomes between unprivileged and privileged groups = -0.020669\n"
     ]
    },
    {
     "data": {
      "text/markdown": [
       "#### Model without debiasing - classification metrics (test set)"
      ],
      "text/plain": [
       "<IPython.core.display.Markdown object>"
      ]
     },
     "metadata": {},
     "output_type": "display_data"
    },
    {
     "name": "stdout",
     "output_type": "stream",
     "text": [
      "Test set: Classification accuracy = 0.815069\n",
      "Test set: Balanced classification accuracy = 0.662604\n",
      "Test set: Disparate impact = 0.976715\n",
      "Test set: Equal opportunity difference = -0.024389\n",
      "Test set: Average odds difference = 0.046790\n",
      "Test set: Theil_index = 0.077106\n"
     ]
    },
    {
     "data": {
      "text/markdown": [
       "## With fairness constraints - dataset metrics"
      ],
      "text/plain": [
       "<IPython.core.display.Markdown object>"
      ]
     },
     "metadata": {},
     "output_type": "display_data"
    },
    {
     "data": {
      "text/markdown": [
       "#### Model with debiasing - dataset metrics"
      ],
      "text/plain": [
       "<IPython.core.display.Markdown object>"
      ]
     },
     "metadata": {},
     "output_type": "display_data"
    },
    {
     "name": "stdout",
     "output_type": "stream",
     "text": [
      "Train set: Difference in mean outcomes between unprivileged and privileged groups = 0.000000\n",
      "Test set: Difference in mean outcomes between unprivileged and privileged groups = 0.000000\n"
     ]
    },
    {
     "data": {
      "text/markdown": [
       "#### Model with biasing - classification metrics (test set)"
      ],
      "text/plain": [
       "<IPython.core.display.Markdown object>"
      ]
     },
     "metadata": {},
     "output_type": "display_data"
    },
    {
     "name": "stdout",
     "output_type": "stream",
     "text": [
      "Test set: Classification accuracy = 0.760912\n",
      "Balanced classification accuracy = 0.500000\n",
      "Test set: Disparate impact = 1.000000\n",
      "Test set: Equal opportunity difference = 0.000000\n",
      "Test set: Average odds difference = 0.000000\n",
      "Test set: Theil_index = 0.053117\n"
     ]
    }
   ],
   "source": [
    "display(Markdown(\"## No fairness contraints - dataset metrics\"))\n",
    "# Metrics for the dataset from model without debiasing\n",
    "display(Markdown(\"#### Model without debiasing - dataset metrics\"))\n",
    "metric_dataset_prejudiceremover_train = BinaryLabelDatasetMetric(dataset_train_transformed_plain, \n",
    "                                             unprivileged_groups=unprivileged_groups,\n",
    "                                             privileged_groups=privileged_groups)\n",
    "\n",
    "print(\"Train set: Difference in mean outcomes between unprivileged and privileged groups = %f\" % metric_dataset_prejudiceremover_train.mean_difference())\n",
    "\n",
    "metric_dataset_prejudiceremover_test = BinaryLabelDatasetMetric(dataset_test_transformed_plain, \n",
    "                                             unprivileged_groups=unprivileged_groups,\n",
    "                                             privileged_groups=privileged_groups)\n",
    "\n",
    "print(\"Test set: Difference in mean outcomes between unprivileged and privileged groups = %f\" % metric_dataset_prejudiceremover_test.mean_difference())\n",
    "\n",
    "display(Markdown(\"#### Model without debiasing - classification metrics (test set)\"))\n",
    "classified_metric_prejudiceremover_test = ClassificationMetric(dataset_orig_test, \n",
    "                                                 dataset_test_transformed_plain,\n",
    "                                                 unprivileged_groups=unprivileged_groups,\n",
    "                                                 privileged_groups=privileged_groups)\n",
    "print(\"Test set: Classification accuracy = %f\" % classified_metric_prejudiceremover_test.accuracy())\n",
    "TPR = classified_metric_prejudiceremover_test.true_positive_rate()\n",
    "TNR = classified_metric_prejudiceremover_test.true_negative_rate()\n",
    "bal_acc_predjudiceremover_test = 0.5*(TPR+TNR)\n",
    "unconstrainedFDR = classified_metric_prejudiceremover_test.false_discovery_rate()\n",
    "print(\"Test set: Balanced classification accuracy = %f\" % bal_acc_predjudiceremover_test)\n",
    "print(\"Test set: Disparate impact = %f\" % classified_metric_prejudiceremover_test.disparate_impact())\n",
    "print(\"Test set: Equal opportunity difference = %f\" % classified_metric_prejudiceremover_test.equal_opportunity_difference())\n",
    "print(\"Test set: Average odds difference = %f\" % classified_metric_prejudiceremover_test.average_odds_difference())\n",
    "print(\"Test set: Theil_index = %f\" % classified_metric_prejudiceremover_test.theil_index())\n",
    "\n",
    "###### Debiasing begins here ############\n",
    "\n",
    "\n",
    "display(Markdown(\"## With fairness constraints - dataset metrics\"))\n",
    "\n",
    "# Metrics for the dataset from model with debiasing\n",
    "display(Markdown(\"#### Model with debiasing - dataset metrics\"))\n",
    "metric_dataset_prejudiceremover_train = BinaryLabelDatasetMetric(dataset_train_transformed, \n",
    "                                             unprivileged_groups=unprivileged_groups,\n",
    "                                             privileged_groups=privileged_groups)\n",
    "\n",
    "print(\"Train set: Difference in mean outcomes between unprivileged and privileged groups = %f\" % metric_dataset_prejudiceremover_train.mean_difference())\n",
    "\n",
    "metric_dataset_prejudiceremover_test = BinaryLabelDatasetMetric(dataset_test_transformed, \n",
    "                                             unprivileged_groups=unprivileged_groups,\n",
    "                                             privileged_groups=privileged_groups)\n",
    "\n",
    "print(\"Test set: Difference in mean outcomes between unprivileged and privileged groups = %f\" % metric_dataset_prejudiceremover_test.mean_difference())\n",
    "\n",
    "display(Markdown(\"#### Model with biasing - classification metrics (test set)\"))\n",
    "classified_metric_prejudiceremover_test = ClassificationMetric(dataset_orig_test, \n",
    "                                                 dataset_test_transformed,\n",
    "                                                 unprivileged_groups=unprivileged_groups,\n",
    "                                                 privileged_groups=privileged_groups)\n",
    "print(\"Test set: Classification accuracy = %f\" % classified_metric_prejudiceremover_test.accuracy())\n",
    "TPR = classified_metric_prejudiceremover_test.true_positive_rate()\n",
    "TNR = classified_metric_prejudiceremover_test.true_negative_rate()\n",
    "bal_acc_predjudiceremover_test = 0.5*(TPR+TNR)\n",
    "print(\"Balanced classification accuracy = %f\" % bal_acc_predjudiceremover_test)\n",
    "print(\"Test set: Disparate impact = %f\" % classified_metric_prejudiceremover_test.disparate_impact())\n",
    "print(\"Test set: Equal opportunity difference = %f\" % classified_metric_prejudiceremover_test.equal_opportunity_difference())\n",
    "print(\"Test set: Average odds difference = %f\" % classified_metric_prejudiceremover_test.average_odds_difference())\n",
    "print(\"Test set: Theil_index = %f\" % classified_metric_prejudiceremover_test.theil_index())\n"
   ]
  },
  {
   "cell_type": "code",
   "execution_count": 12,
   "metadata": {},
   "outputs": [
    {
     "data": {
      "text/markdown": [
       "#### Running the algorithm for different eta values"
      ],
      "text/plain": [
       "<IPython.core.display.Markdown object>"
      ]
     },
     "metadata": {},
     "output_type": "display_data"
    },
    {
     "name": "stdout",
     "output_type": "stream",
     "text": [
      "eta: 0.00\n",
      "accuracy: 0.66\n",
      "fdr: 0.17\n",
      "statistical parity: -0.02\n",
      "eta: 1.00\n",
      "accuracy: 0.66\n",
      "fdr: 0.17\n",
      "statistical parity: -0.02\n",
      "eta: 2.00\n",
      "accuracy: 0.66\n",
      "fdr: 0.17\n",
      "statistical parity: -0.02\n",
      "eta: 3.00\n",
      "accuracy: 0.66\n",
      "fdr: 0.17\n",
      "statistical parity: -0.02\n",
      "eta: 4.00\n",
      "accuracy: 0.66\n",
      "fdr: 0.17\n",
      "statistical parity: -0.02\n",
      "eta: 5.00\n",
      "accuracy: 0.66\n",
      "fdr: 0.17\n",
      "statistical parity: -0.01\n",
      "eta: 10.00\n",
      "accuracy: 0.65\n",
      "fdr: 0.18\n",
      "statistical parity: -0.01\n",
      "eta: 15.00\n",
      "accuracy: 0.65\n",
      "fdr: 0.18\n",
      "statistical parity: -0.01\n",
      "eta: 20.00\n",
      "accuracy: 0.65\n",
      "fdr: 0.18\n",
      "statistical parity: -0.01\n",
      "eta: 30.00\n",
      "accuracy: 0.63\n",
      "fdr: 0.19\n",
      "statistical parity: 0.01\n",
      "eta: 40.00\n",
      "accuracy: 0.63\n",
      "fdr: 0.19\n",
      "statistical parity: 0.01\n",
      "eta: 50.00\n",
      "accuracy: 0.63\n",
      "fdr: 0.19\n",
      "statistical parity: 0.01\n",
      "eta: 100.00\n",
      "accuracy: 0.63\n",
      "fdr: 0.19\n",
      "statistical parity: 0.01\n",
      "eta: 150.00\n",
      "accuracy: 0.63\n",
      "fdr: 0.19\n",
      "statistical parity: 0.01\n",
      "eta: 200.00\n",
      "accuracy: 0.50\n",
      "fdr: 0.24\n",
      "statistical parity: 0.00\n",
      "eta: 250.00\n",
      "accuracy: 0.50\n",
      "fdr: 0.24\n",
      "statistical parity: 0.00\n",
      "eta: 300.00\n",
      "accuracy: 0.50\n",
      "fdr: 0.24\n",
      "statistical parity: 0.00\n"
     ]
    }
   ],
   "source": [
    "display(Markdown(\"#### Running the algorithm for different eta values\"))\n",
    "\n",
    "accuracies, false_discovery_rates, statistical_rates = [], [], []\n",
    "sensitive_attribute = \"Sex\"\n",
    "\n",
    "all_eta = np.linspace(0.0, 300, 17)\n",
    "for e in eta:\n",
    "    print(\"eta: %.2f\" % e)\n",
    "    debiased_model = PrejudiceRemover(eta=e, sensitive_attr=sensitive_attribute)\n",
    "    debiased_model.fit(dataset_orig_train)\n",
    "    \n",
    "    dataset_debiasing_test = debiased_model.predict(dataset_orig_test)\n",
    "    predictions = dataset_debiasing_test.labels\n",
    "    predictions = [1 if y == dataset_orig_train.favorable_label else -1 for y in predictions]\n",
    "    \n",
    "    classified_metric_prejudiceremover_test = ClassificationMetric(dataset_orig_test, \n",
    "                                                 dataset_debiasing_test,\n",
    "                                                 unprivileged_groups=unprivileged_groups,\n",
    "                                                 privileged_groups=privileged_groups)\n",
    "    acc = 0.5*(classified_metric_prejudiceremover_test.true_positive_rate()+classified_metric_prejudiceremover_test.true_negative_rate())\n",
    "    sp =  classified_metric_prejudiceremover_test.mean_difference()\n",
    "    fr = classified_metric_prejudiceremover_test.false_discovery_rate()\n",
    "    print(\"accuracy: %.2f\" % acc)\n",
    "    print(\"fdr: %.2f\" % fr)\n",
    "    print(\"statistical parity: %.2f\" % sp)\n",
    "    \n",
    "    ## Testing\n",
    "    assert (e < unconstrainedFDR) or (fr >= unconstrainedFDR)\n",
    "    \n",
    "    accuracies.append(acc)\n",
    "    false_discovery_rates.append(fr)\n",
    "    statistical_rates.append(sp)\n",
    "    "
   ]
  },
  {
   "cell_type": "code",
   "execution_count": 14,
   "metadata": {},
   "outputs": [
    {
     "data": {
      "text/markdown": [
       "### Plot of accuracy and output fairness vs input constraint (eta)"
      ],
      "text/plain": [
       "<IPython.core.display.Markdown object>"
      ]
     },
     "metadata": {},
     "output_type": "display_data"
    },
    {
     "data": {
      "text/markdown": [
       "#### Output fairness is represented by $\\gamma_{fdr}$, which is the ratio of false discovery rate of different sensitive attribute values."
      ],
      "text/plain": [
       "<IPython.core.display.Markdown object>"
      ]
     },
     "metadata": {},
     "output_type": "display_data"
    },
    {
     "data": {
      "image/png": "[encoded data removed]",
      "text/plain": [
       "<Figure size 1080x576 with 2 Axes>"
      ]
     },
     "metadata": {
      "needs_background": "light"
     },
     "output_type": "display_data"
    }
   ],
   "source": [
    "all_eta = np.linspace(0.0, 300, 17)\n",
    "\n",
    "display(Markdown(\"### Plot of accuracy and output fairness vs input constraint (eta)\"))\n",
    "\n",
    "display(Markdown(\"#### Output fairness is represented by $\\gamma_{fdr}$, which is the ratio of false discovery rate of different sensitive attribute values.\"))\n",
    "\n",
    "fig, ax1 = plt.subplots(figsize=(15,8))\n",
    "ax1.plot(all_eta, accuracies, color='r')\n",
    "ax1.set_title('Accuracy and $\\gamma_{fdr}$ vs eta', fontsize=16, fontweight='bold')\n",
    "ax1.set_xlabel('Input eta', fontsize=16, fontweight='bold')\n",
    "ax1.set_ylabel('Accuracy', color='r', fontsize=16, fontweight='bold')\n",
    "ax1.xaxis.set_tick_params(labelsize=14)\n",
    "ax1.yaxis.set_tick_params(labelsize=14)\n",
    "\n",
    "ax2 = ax1.twinx()\n",
    "ax2.plot(all_eta,  statistical_rates, color='b')\n",
    "ax2.set_ylabel('$\\gamma_{fdr}$', color='b', fontsize=16, fontweight='bold')\n",
    "ax2.yaxis.set_tick_params(labelsize=14)\n",
    "ax2.grid(True)"
   ]
  },
  {
   "cell_type": "code",
   "execution_count": null,
   "metadata": {},
   "outputs": [],
   "source": []
  },
  {
   "cell_type": "code",
   "execution_count": null,
   "metadata": {},
   "outputs": [],
   "source": []
  },
  {
   "cell_type": "code",
   "execution_count": null,
   "metadata": {},
   "outputs": [],
   "source": []
  },
  {
   "cell_type": "code",
   "execution_count": null,
   "metadata": {},
   "outputs": [],
   "source": []
  },
  {
   "cell_type": "code",
   "execution_count": null,
   "metadata": {},
   "outputs": [],
   "source": []
  },
  {
   "cell_type": "code",
   "execution_count": null,
   "metadata": {},
   "outputs": [],
   "source": []
  }
 ],
 "metadata": {
  "kernelspec": {
   "display_name": ".venv",
   "language": "python",
   "name": ".venv"
  },
  "language_info": {
   "codemirror_mode": {
    "name": "ipython",
    "version": 3
   },
   "file_extension": ".py",
   "mimetype": "text/x-python",
   "name": "python",
   "nbconvert_exporter": "python",
   "pygments_lexer": "ipython3",
   "version": "3.6.9"
  }
 },
 "nbformat": 4,
 "nbformat_minor": 4
}
