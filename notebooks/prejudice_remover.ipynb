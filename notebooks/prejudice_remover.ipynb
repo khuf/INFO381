{
 "cells": [
  {
   "cell_type": "markdown",
   "metadata": {},
   "source": [
    "# Prejudice removal\n",
    "\n",
    "**Uses the Prejudice removal in-processing algorithm from the AIF360 toolkit. Adds a discrimination-aware regularization term to the learning objective** \n",
    "\n",
    "See https://aif360.readthedocs.io/en/latest/modules/generated/aif360.algorithms.inprocessing.PrejudiceRemover.html <br />\n",
    "See http://aif360.mybluemix.net/resources#guidance for guidance on metrics and mitigation algorithms"
   ]
  },
  {
   "cell_type": "code",
   "execution_count": 63,
   "metadata": {},
   "outputs": [],
   "source": [
    "%matplotlib inline\n",
    "import os\n",
    "import sys\n",
    "sys.path.insert(0, os.path.abspath('../datasets'))\n",
    "import numpy as np\n",
    "from tqdm import tqdm\n",
    "from warnings import warn\n",
    "import pandas as pd\n",
    "\n",
    "from IPython.display import Markdown, display\n",
    "from aif360.metrics import BinaryLabelDatasetMetric\n",
    "from aif360.metrics import ClassificationMetric\n",
    "from common_utils import compute_metrics\n",
    "from sklearn.preprocessing import MaxAbsScaler\n",
    "import matplotlib.pyplot as plt\n",
    "from matplotlib.ticker import FormatStrFormatter\n",
    "import matplotlib.ticker as ticker\n",
    "\n",
    "from aif360.algorithms.inprocessing import PrejudiceRemover\n",
    "\n",
    "# Import employment dataset \n",
    "from EmploymentDataset import EmploymentDataset\n",
    "from util import preprocess_employment"
   ]
  },
  {
   "cell_type": "code",
   "execution_count": 2,
   "metadata": {},
   "outputs": [
    {
     "name": "stdout",
     "output_type": "stream",
     "text": [
      "[1. 0.]\n"
     ]
    }
   ],
   "source": [
    "privileged_groups = [{'Sex': 1}]\n",
    "unprivileged_groups = [{'Sex': 0}]\n",
    "\n",
    "# Fairness penalty paramenters\n",
    "eta = [0.0, 1.0, 2.0, 3.0, 4.0, 5.0, 10.0, 15.0, 20.0, 30.0, 40.0, 50.0, 100.0, 150.0, 200.0, 250.0, 300.0] \n",
    "\n",
    "#eta = [0.0, 1.0, 2.0]\n",
    "\n",
    "prejudice_remover = PrejudiceRemover(eta=300, sensitive_attr = 'Sex', class_attr='EmploymentStatus')\n",
    "prejudice_no_penalty = PrejudiceRemover(eta= 0.0, sensitive_attr = 'Sex', class_attr='EmploymentStatus')\n",
    " \n",
    "# Import the dataset\n",
    "dataset_orig = preprocess_employment(['Sex'])\n",
    "\n",
    "# Split dataset 70/30\n",
    "dataset_orig_train, dataset_orig_test = dataset_orig.split([0.7], shuffle=True)"
   ]
  },
  {
   "cell_type": "code",
   "execution_count": 3,
   "metadata": {},
   "outputs": [
    {
     "data": {
      "text/markdown": [
       "#### Original training dataset"
      ],
      "text/plain": [
       "<IPython.core.display.Markdown object>"
      ]
     },
     "metadata": {},
     "output_type": "display_data"
    },
    {
     "name": "stdout",
     "output_type": "stream",
     "text": [
      "Train set: Difference in mean outcomes between unprivileged and privileged groups = -0.098838\n",
      "Test set: Difference in mean outcomes between unprivileged and privileged groups = -0.087543\n"
     ]
    }
   ],
   "source": [
    "# Metric for the original dataset\n",
    "metric_orig_train = BinaryLabelDatasetMetric(dataset_orig_train, \n",
    "                                             unprivileged_groups=unprivileged_groups,\n",
    "                                             privileged_groups=privileged_groups)\n",
    "display(Markdown(\"#### Original training dataset\"))\n",
    "print(\"Train set: Difference in mean outcomes between unprivileged and privileged groups = %f\" % metric_orig_train.mean_difference())\n",
    "metric_orig_test = BinaryLabelDatasetMetric(dataset_orig_test, \n",
    "                                             unprivileged_groups=unprivileged_groups,\n",
    "                                             privileged_groups=privileged_groups)\n",
    "print(\"Test set: Difference in mean outcomes between unprivileged and privileged groups = %f\" % metric_orig_test.mean_difference())"
   ]
  },
  {
   "cell_type": "code",
   "execution_count": 4,
   "metadata": {},
   "outputs": [
    {
     "data": {
      "text/markdown": [
       "#### Scaled dataset - Verify that the scaling does not affect the group label statistics"
      ],
      "text/plain": [
       "<IPython.core.display.Markdown object>"
      ]
     },
     "metadata": {},
     "output_type": "display_data"
    },
    {
     "name": "stdout",
     "output_type": "stream",
     "text": [
      "Train set: Difference in mean outcomes between unprivileged and privileged groups = -0.098838\n",
      "Test set: Difference in mean outcomes between unprivileged and privileged groups = -0.087543\n"
     ]
    }
   ],
   "source": [
    "min_max_scaler = MaxAbsScaler()\n",
    "dataset_orig_train.features = min_max_scaler.fit_transform(dataset_orig_train.features)\n",
    "dataset_orig_test.features = min_max_scaler.transform(dataset_orig_test.features)\n",
    "metric_scaled_train = BinaryLabelDatasetMetric(dataset_orig_train, \n",
    "                             unprivileged_groups=unprivileged_groups,\n",
    "                             privileged_groups=privileged_groups)\n",
    "display(Markdown(\"#### Scaled dataset - Verify that the scaling does not affect the group label statistics\"))\n",
    "print(\"Train set: Difference in mean outcomes between unprivileged and privileged groups = %f\" % metric_scaled_train.mean_difference())\n",
    "metric_scaled_test = BinaryLabelDatasetMetric(dataset_orig_test, \n",
    "                             unprivileged_groups=unprivileged_groups,\n",
    "                             privileged_groups=privileged_groups)\n",
    "print(\"Test set: Difference in mean outcomes between unprivileged and privileged groups = %f\" % metric_scaled_test.mean_difference())"
   ]
  },
  {
   "cell_type": "code",
   "execution_count": 5,
   "metadata": {},
   "outputs": [
    {
     "data": {
      "text/plain": [
       "<aif360.algorithms.inprocessing.prejudice_remover.PrejudiceRemover at 0x7f4b35a74c18>"
      ]
     },
     "execution_count": 5,
     "metadata": {},
     "output_type": "execute_result"
    }
   ],
   "source": [
    "# Train the model\n",
    "prejudice_no_penalty.fit(dataset_orig_train)"
   ]
  },
  {
   "cell_type": "code",
   "execution_count": 6,
   "metadata": {},
   "outputs": [],
   "source": [
    "# Apply the unconstrained model to test data\n",
    "dataset_train_transformed_plain = prejudice_no_penalty.predict(dataset_orig_train)\n",
    "dataset_test_transformed_plain = prejudice_no_penalty.predict(dataset_orig_test)"
   ]
  },
  {
   "cell_type": "code",
   "execution_count": 7,
   "metadata": {},
   "outputs": [
    {
     "data": {
      "text/markdown": [
       "## No fairness contraints - dataset metrics"
      ],
      "text/plain": [
       "<IPython.core.display.Markdown object>"
      ]
     },
     "metadata": {},
     "output_type": "display_data"
    },
    {
     "data": {
      "text/markdown": [
       "#### Model without debiasing - dataset metrics"
      ],
      "text/plain": [
       "<IPython.core.display.Markdown object>"
      ]
     },
     "metadata": {},
     "output_type": "display_data"
    },
    {
     "name": "stdout",
     "output_type": "stream",
     "text": [
      "Train set: Difference in mean outcomes between unprivileged and privileged groups = -0.030012\n",
      "Test set: Difference in mean outcomes between unprivileged and privileged groups = -0.026448\n"
     ]
    },
    {
     "data": {
      "text/markdown": [
       "#### Model without debiasing - classification metrics"
      ],
      "text/plain": [
       "<IPython.core.display.Markdown object>"
      ]
     },
     "metadata": {},
     "output_type": "display_data"
    },
    {
     "name": "stdout",
     "output_type": "stream",
     "text": [
      "Test set: Classification accuracy = 0.815110\n",
      "Test set: Balanced classification accuracy = 0.662400\n",
      "Test set: Disparate impact = 0.970356\n",
      "Test set: Equal opportunity difference = -0.028262\n",
      "Test set: Average odds difference = 0.036505\n",
      "Test set: Theil_index = 0.075609\n"
     ]
    }
   ],
   "source": [
    "# Metrics for the dataset from model without debiasing\n",
    "display(Markdown(\"## No fairness contraints - dataset metrics\"))\n",
    "display(Markdown(\"#### Model without debiasing - dataset metrics\"))\n",
    "metric_dataset_prejudiceremover_train = BinaryLabelDatasetMetric(dataset_train_transformed_plain, \n",
    "                                             unprivileged_groups=unprivileged_groups,\n",
    "                                             privileged_groups=privileged_groups)\n",
    "\n",
    "print(\"Train set: Difference in mean outcomes between unprivileged and privileged groups = %f\" % metric_dataset_prejudiceremover_train.mean_difference())\n",
    "\n",
    "metric_dataset_prejudiceremover_test = BinaryLabelDatasetMetric(dataset_test_transformed_plain, \n",
    "                                             unprivileged_groups=unprivileged_groups,\n",
    "                                             privileged_groups=privileged_groups)\n",
    "\n",
    "print(\"Test set: Difference in mean outcomes between unprivileged and privileged groups = %f\" % metric_dataset_prejudiceremover_test.mean_difference())\n",
    "\n",
    "display(Markdown(\"#### Model without debiasing - classification metrics\"))\n",
    "classified_metric_prejudiceremover_test = ClassificationMetric(dataset_orig_test, \n",
    "                                                 dataset_test_transformed_plain,\n",
    "                                                 unprivileged_groups=unprivileged_groups,\n",
    "                                                 privileged_groups=privileged_groups)\n",
    "print(\"Test set: Classification accuracy = %f\" % classified_metric_prejudiceremover_test.accuracy())\n",
    "TPR = classified_metric_prejudiceremover_test.true_positive_rate()\n",
    "TNR = classified_metric_prejudiceremover_test.true_negative_rate()\n",
    "bal_acc_predjudiceremover_test = 0.5*(TPR+TNR)\n",
    "print(\"Test set: Balanced classification accuracy = %f\" % bal_acc_predjudiceremover_test)\n",
    "print(\"Test set: Disparate impact = %f\" % classified_metric_prejudiceremover_test.disparate_impact())\n",
    "print(\"Test set: Equal opportunity difference = %f\" % classified_metric_prejudiceremover_test.equal_opportunity_difference())\n",
    "print(\"Test set: Average odds difference = %f\" % classified_metric_prejudiceremover_test.average_odds_difference())\n",
    "print(\"Test set: Theil_index = %f\" % classified_metric_prejudiceremover_test.theil_index())"
   ]
  },
  {
   "cell_type": "code",
   "execution_count": 8,
   "metadata": {},
   "outputs": [
    {
     "data": {
      "text/plain": [
       "<aif360.algorithms.inprocessing.prejudice_remover.PrejudiceRemover at 0x7f4b35a74be0>"
      ]
     },
     "execution_count": 8,
     "metadata": {},
     "output_type": "execute_result"
    }
   ],
   "source": [
    "prejudice_remover.fit(dataset_orig_train)"
   ]
  },
  {
   "cell_type": "code",
   "execution_count": 9,
   "metadata": {},
   "outputs": [],
   "source": [
    "# Apply the prejudice remover model to test data\n",
    "dataset_train_transformed = prejudice_remover.predict(dataset_orig_train)\n",
    "dataset_test_transformed = prejudice_remover.predict(dataset_orig_test)"
   ]
  },
  {
   "cell_type": "code",
   "execution_count": 10,
   "metadata": {},
   "outputs": [
    {
     "data": {
      "text/markdown": [
       "## No fairness contraints - dataset metrics"
      ],
      "text/plain": [
       "<IPython.core.display.Markdown object>"
      ]
     },
     "metadata": {},
     "output_type": "display_data"
    },
    {
     "data": {
      "text/markdown": [
       "#### Model without debiasing - dataset metrics"
      ],
      "text/plain": [
       "<IPython.core.display.Markdown object>"
      ]
     },
     "metadata": {},
     "output_type": "display_data"
    },
    {
     "name": "stdout",
     "output_type": "stream",
     "text": [
      "Train set: Difference in mean outcomes between unprivileged and privileged groups = -0.030012\n",
      "Test set: Difference in mean outcomes between unprivileged and privileged groups = -0.026448\n"
     ]
    },
    {
     "data": {
      "text/markdown": [
       "#### Model without debiasing - classification metrics (test set)"
      ],
      "text/plain": [
       "<IPython.core.display.Markdown object>"
      ]
     },
     "metadata": {},
     "output_type": "display_data"
    },
    {
     "name": "stdout",
     "output_type": "stream",
     "text": [
      "Test set: Classification accuracy = 0.815110\n",
      "Test set: Balanced classification accuracy = 0.662400\n",
      "Test set: Disparate impact = 0.970356\n",
      "Test set: Equal opportunity difference = -0.028262\n",
      "Test set: Average odds difference = 0.036505\n",
      "Test set: Theil_index = 0.075609\n"
     ]
    },
    {
     "data": {
      "text/markdown": [
       "## With fairness constraints - dataset metrics"
      ],
      "text/plain": [
       "<IPython.core.display.Markdown object>"
      ]
     },
     "metadata": {},
     "output_type": "display_data"
    },
    {
     "data": {
      "text/markdown": [
       "#### Model with debiasing - dataset metrics"
      ],
      "text/plain": [
       "<IPython.core.display.Markdown object>"
      ]
     },
     "metadata": {},
     "output_type": "display_data"
    },
    {
     "name": "stdout",
     "output_type": "stream",
     "text": [
      "Train set: Difference in mean outcomes between unprivileged and privileged groups = 0.000000\n",
      "Test set: Difference in mean outcomes between unprivileged and privileged groups = 0.000000\n"
     ]
    },
    {
     "data": {
      "text/markdown": [
       "#### Model with biasing - classification metrics (test set)"
      ],
      "text/plain": [
       "<IPython.core.display.Markdown object>"
      ]
     },
     "metadata": {},
     "output_type": "display_data"
    },
    {
     "name": "stdout",
     "output_type": "stream",
     "text": [
      "Test set: Classification accuracy = 0.759269\n",
      "Balanced classification accuracy = 0.500000\n",
      "Test set: Disparate impact = 1.000000\n",
      "Test set: Equal opportunity difference = 0.000000\n",
      "Test set: Average odds difference = 0.000000\n",
      "Test set: Theil_index = 0.053273\n"
     ]
    }
   ],
   "source": [
    "display(Markdown(\"## No fairness contraints - dataset metrics\"))\n",
    "# Metrics for the dataset from model without debiasing\n",
    "display(Markdown(\"#### Model without debiasing - dataset metrics\"))\n",
    "metric_dataset_prejudiceremover_train = BinaryLabelDatasetMetric(dataset_train_transformed_plain, \n",
    "                                             unprivileged_groups=unprivileged_groups,\n",
    "                                             privileged_groups=privileged_groups)\n",
    "\n",
    "print(\"Train set: Difference in mean outcomes between unprivileged and privileged groups = %f\" % metric_dataset_prejudiceremover_train.mean_difference())\n",
    "\n",
    "metric_dataset_prejudiceremover_test = BinaryLabelDatasetMetric(dataset_test_transformed_plain, \n",
    "                                             unprivileged_groups=unprivileged_groups,\n",
    "                                             privileged_groups=privileged_groups)\n",
    "\n",
    "print(\"Test set: Difference in mean outcomes between unprivileged and privileged groups = %f\" % metric_dataset_prejudiceremover_test.mean_difference())\n",
    "\n",
    "display(Markdown(\"#### Model without debiasing - classification metrics (test set)\"))\n",
    "classified_metric_prejudiceremover_test = ClassificationMetric(dataset_orig_test, \n",
    "                                                 dataset_test_transformed_plain,\n",
    "                                                 unprivileged_groups=unprivileged_groups,\n",
    "                                                 privileged_groups=privileged_groups)\n",
    "print(\"Test set: Classification accuracy = %f\" % classified_metric_prejudiceremover_test.accuracy())\n",
    "TPR = classified_metric_prejudiceremover_test.true_positive_rate()\n",
    "TNR = classified_metric_prejudiceremover_test.true_negative_rate()\n",
    "bal_acc_predjudiceremover_test = 0.5*(TPR+TNR)\n",
    "unconstrainedFDR = classified_metric_prejudiceremover_test.false_discovery_rate()\n",
    "print(\"Test set: Balanced classification accuracy = %f\" % bal_acc_predjudiceremover_test)\n",
    "print(\"Test set: Disparate impact = %f\" % classified_metric_prejudiceremover_test.disparate_impact())\n",
    "print(\"Test set: Equal opportunity difference = %f\" % classified_metric_prejudiceremover_test.equal_opportunity_difference())\n",
    "print(\"Test set: Average odds difference = %f\" % classified_metric_prejudiceremover_test.average_odds_difference())\n",
    "print(\"Test set: Theil_index = %f\" % classified_metric_prejudiceremover_test.theil_index())\n",
    "\n",
    "###### Debiasing begins here ############\n",
    "\n",
    "\n",
    "display(Markdown(\"## With fairness constraints - dataset metrics\"))\n",
    "\n",
    "# Metrics for the dataset from model with debiasing\n",
    "display(Markdown(\"#### Model with debiasing - dataset metrics\"))\n",
    "metric_dataset_prejudiceremover_train = BinaryLabelDatasetMetric(dataset_train_transformed, \n",
    "                                             unprivileged_groups=unprivileged_groups,\n",
    "                                             privileged_groups=privileged_groups)\n",
    "\n",
    "print(\"Train set: Difference in mean outcomes between unprivileged and privileged groups = %f\" % metric_dataset_prejudiceremover_train.mean_difference())\n",
    "\n",
    "metric_dataset_prejudiceremover_test = BinaryLabelDatasetMetric(dataset_test_transformed, \n",
    "                                             unprivileged_groups=unprivileged_groups,\n",
    "                                             privileged_groups=privileged_groups)\n",
    "\n",
    "print(\"Test set: Difference in mean outcomes between unprivileged and privileged groups = %f\" % metric_dataset_prejudiceremover_test.mean_difference())\n",
    "\n",
    "display(Markdown(\"#### Model with biasing - classification metrics (test set)\"))\n",
    "classified_metric_prejudiceremover_test = ClassificationMetric(dataset_orig_test, \n",
    "                                                 dataset_test_transformed,\n",
    "                                                 unprivileged_groups=unprivileged_groups,\n",
    "                                                 privileged_groups=privileged_groups)\n",
    "print(\"Test set: Classification accuracy = %f\" % classified_metric_prejudiceremover_test.accuracy())\n",
    "TPR = classified_metric_prejudiceremover_test.true_positive_rate()\n",
    "TNR = classified_metric_prejudiceremover_test.true_negative_rate()\n",
    "bal_acc_predjudiceremover_test = 0.5*(TPR+TNR)\n",
    "print(\"Balanced classification accuracy = %f\" % bal_acc_predjudiceremover_test)\n",
    "print(\"Test set: Disparate impact = %f\" % classified_metric_prejudiceremover_test.disparate_impact())\n",
    "print(\"Test set: Equal opportunity difference = %f\" % classified_metric_prejudiceremover_test.equal_opportunity_difference())\n",
    "print(\"Test set: Average odds difference = %f\" % classified_metric_prejudiceremover_test.average_odds_difference())\n",
    "print(\"Test set: Theil_index = %f\" % classified_metric_prejudiceremover_test.theil_index())\n"
   ]
  },
  {
   "cell_type": "code",
   "execution_count": 11,
   "metadata": {},
   "outputs": [
    {
     "data": {
      "text/markdown": [
       "#### Running the algorithm for different eta values"
      ],
      "text/plain": [
       "<IPython.core.display.Markdown object>"
      ]
     },
     "metadata": {},
     "output_type": "display_data"
    },
    {
     "name": "stdout",
     "output_type": "stream",
     "text": [
      "eta: 0.00\n",
      "accuracy: 0.66\n",
      "fdr: 0.17\n",
      "statistical parity: -0.03\n",
      "eta: 1.00\n",
      "accuracy: 0.66\n",
      "fdr: 0.17\n",
      "statistical parity: -0.02\n",
      "eta: 2.00\n",
      "accuracy: 0.66\n",
      "fdr: 0.17\n",
      "statistical parity: -0.02\n",
      "eta: 3.00\n",
      "accuracy: 0.66\n",
      "fdr: 0.18\n",
      "statistical parity: -0.02\n",
      "eta: 4.00\n",
      "accuracy: 0.66\n",
      "fdr: 0.18\n",
      "statistical parity: -0.02\n",
      "eta: 5.00\n",
      "accuracy: 0.66\n",
      "fdr: 0.18\n",
      "statistical parity: -0.01\n",
      "eta: 6.00\n",
      "accuracy: 0.66\n",
      "fdr: 0.18\n",
      "statistical parity: -0.02\n",
      "eta: 7.00\n",
      "accuracy: 0.66\n",
      "fdr: 0.18\n",
      "statistical parity: -0.01\n",
      "eta: 8.00\n",
      "accuracy: 0.66\n",
      "fdr: 0.18\n",
      "statistical parity: -0.01\n",
      "eta: 9.00\n",
      "accuracy: 0.66\n",
      "fdr: 0.18\n",
      "statistical parity: -0.01\n",
      "eta: 10.00\n",
      "accuracy: 0.65\n",
      "fdr: 0.18\n",
      "statistical parity: -0.01\n",
      "eta: 11.00\n",
      "accuracy: 0.65\n",
      "fdr: 0.18\n",
      "statistical parity: -0.01\n",
      "eta: 12.00\n",
      "accuracy: 0.65\n",
      "fdr: 0.18\n",
      "statistical parity: -0.01\n",
      "eta: 13.00\n",
      "accuracy: 0.65\n",
      "fdr: 0.18\n",
      "statistical parity: -0.01\n",
      "eta: 14.00\n",
      "accuracy: 0.65\n",
      "fdr: 0.18\n",
      "statistical parity: -0.01\n",
      "eta: 15.00\n",
      "accuracy: 0.65\n",
      "fdr: 0.18\n",
      "statistical parity: -0.01\n",
      "eta: 16.00\n",
      "accuracy: 0.65\n",
      "fdr: 0.18\n",
      "statistical parity: -0.01\n",
      "eta: 17.00\n",
      "accuracy: 0.65\n",
      "fdr: 0.18\n",
      "statistical parity: -0.01\n",
      "eta: 18.00\n",
      "accuracy: 0.65\n",
      "fdr: 0.18\n",
      "statistical parity: -0.01\n",
      "eta: 19.00\n",
      "accuracy: 0.64\n",
      "fdr: 0.18\n",
      "statistical parity: -0.01\n",
      "eta: 20.00\n",
      "accuracy: 0.64\n",
      "fdr: 0.18\n",
      "statistical parity: -0.01\n",
      "eta: 21.00\n",
      "accuracy: 0.64\n",
      "fdr: 0.18\n",
      "statistical parity: -0.01\n",
      "eta: 22.00\n",
      "accuracy: 0.62\n",
      "fdr: 0.19\n",
      "statistical parity: 0.01\n",
      "eta: 23.00\n",
      "accuracy: 0.62\n",
      "fdr: 0.19\n",
      "statistical parity: 0.01\n",
      "eta: 24.00\n",
      "accuracy: 0.62\n",
      "fdr: 0.19\n",
      "statistical parity: 0.01\n",
      "eta: 25.00\n",
      "accuracy: 0.62\n",
      "fdr: 0.19\n",
      "statistical parity: 0.01\n",
      "eta: 26.00\n",
      "accuracy: 0.62\n",
      "fdr: 0.19\n",
      "statistical parity: 0.01\n",
      "eta: 27.00\n",
      "accuracy: 0.62\n",
      "fdr: 0.19\n",
      "statistical parity: 0.01\n",
      "eta: 28.00\n",
      "accuracy: 0.62\n",
      "fdr: 0.19\n",
      "statistical parity: 0.01\n",
      "eta: 29.00\n",
      "accuracy: 0.62\n",
      "fdr: 0.19\n",
      "statistical parity: 0.01\n",
      "eta: 30.00\n",
      "accuracy: 0.62\n",
      "fdr: 0.19\n",
      "statistical parity: 0.01\n"
     ]
    }
   ],
   "source": [
    "display(Markdown(\"#### Running the algorithm for different eta values\"))\n",
    "\n",
    "accuracies, false_discovery_rates, statistical_rates, average_odds, disparate_impact, equal_opportunity, theil_index = [], [],\\\n",
    "[], [], [], [], []\n",
    "sensitive_attribute = \"Sex\"\n",
    "\n",
    "all_eta = np.linspace(0.0, 30, 30)\n",
    "for e in range(31):\n",
    "    print(\"eta: %.2f\" % e)\n",
    "    debiased_model = PrejudiceRemover(eta=e, sensitive_attr=sensitive_attribute)\n",
    "    debiased_model.fit(dataset_orig_train)\n",
    "    \n",
    "    dataset_debiasing_test = debiased_model.predict(dataset_orig_test)\n",
    "    predictions = dataset_debiasing_test.labels\n",
    "    predictions = [1 if y == dataset_orig_train.favorable_label else -1 for y in predictions]\n",
    "    \n",
    "    classified_metric_prejudiceremover_test = ClassificationMetric(dataset_orig_test, \n",
    "                                                 dataset_debiasing_test,\n",
    "                                                 unprivileged_groups=unprivileged_groups,\n",
    "                                                 privileged_groups=privileged_groups)\n",
    "    acc = 0.5*(classified_metric_prejudiceremover_test.true_positive_rate()+classified_metric_prejudiceremover_test.true_negative_rate())\n",
    "    sp =  classified_metric_prejudiceremover_test.mean_difference()\n",
    "    fr = classified_metric_prejudiceremover_test.false_discovery_rate()\n",
    "    eo = classified_metric_prejudiceremover_test.equal_opportunity_difference()\n",
    "    ao = classified_metric_prejudiceremover_test.average_odds_difference()\n",
    "    di = classified_metric_prejudiceremover_test.disparate_impact()\n",
    "    ti = classified_metric_prejudiceremover_test.theil_index()\n",
    "    print(\"accuracy: %.2f\" % acc)\n",
    "    print(\"fdr: %.2f\" % fr)\n",
    "    print(\"statistical parity: %.2f\" % sp)\n",
    "    \n",
    "    ## Testing\n",
    "    assert (e < unconstrainedFDR) or (fr >= unconstrainedFDR)\n",
    "    \n",
    "    accuracies.append(acc)\n",
    "    false_discovery_rates.append(fr)\n",
    "    statistical_rates.append(sp)\n",
    "    equal_opportunity.append(eo)\n",
    "    average_odds.append(ao)\n",
    "    disparate_impact.append(di)\n",
    "    theil_index.append(ti)\n",
    "    "
   ]
  },
  {
   "cell_type": "code",
   "execution_count": 276,
   "metadata": {},
   "outputs": [
    {
     "data": {
      "text/markdown": [
       "### Plot of accuracy and output fairness vs input constraint (eta)"
      ],
      "text/plain": [
       "<IPython.core.display.Markdown object>"
      ]
     },
     "metadata": {},
     "output_type": "display_data"
    },
    {
     "data": {
      "text/markdown": [
       "#### The graph illustrates the affect on fairness metrics for various values of eta"
      ],
      "text/plain": [
       "<IPython.core.display.Markdown object>"
      ]
     },
     "metadata": {},
     "output_type": "display_data"
    },
    {
     "data": {
      "image/png": "[encoded data removed]",
      "text/plain": [
       "<Figure size 1080x576 with 2 Axes>"
      ]
     },
     "metadata": {
      "needs_background": "light"
     },
     "output_type": "display_data"
    }
   ],
   "source": [
    "all_eta = np.linspace(0.0, 30, 31)\n",
    "#metrics = [false_discovery_rates, statistical_rates, average_odds, disparate_impact, equal_opportunity]\n",
    "metrics = {'statistical parity': ('x', statistical_rates, 'g'), 'average odds difference': ('o', average_odds, 'y'),\\\n",
    "           'equal opportunity': ('s', equal_opportunity, \"b\" )}\n",
    "\n",
    "# 'false discovery rates': ('o', false_discovery_rates),\n",
    "# 'disparate impact': ('+', disparate_impact),\n",
    "display(Markdown(\"### Plot of accuracy and output fairness vs input constraint (eta)\"))\n",
    "\n",
    "display(Markdown(\"#### The graph illustrates the affect on fairness metrics for various values of eta\"))\n",
    "\n",
    "fig, ax1 = plt.subplots(figsize=(15,8))\n",
    "ax1.plot(all_eta, accuracies, color='r')\n",
    "ax1.set_title('Accuracy and fairness metrics vs eta', fontsize=16, fontweight='bold')\n",
    "ax1.set_xlabel('Input eta', fontsize=16, fontweight='bold')\n",
    "ax1.set_ylabel('Balanced accuracy', color='r', fontsize=16, fontweight='bold')\n",
    "ax1.xaxis.set_tick_params(labelsize=14)\n",
    "ax1.yaxis.set_tick_params(labelsize=14)\n",
    "\n",
    "for i in [0, 1, 5, 10, 15, 25, 20, 30]:\n",
    "\n",
    "    label = \"{:.3f}\".format(accuracies[i])\n",
    "\n",
    "    plt.annotate(label,\n",
    "                 (i, accuracies[i],),\n",
    "                 textcoords=\"offset points\",\n",
    "                 xytext=(0,-18),\n",
    "                 ha='center')\n",
    "\n",
    "ax2 = ax1.twinx()\n",
    "ax2.plot(all_eta,  statistical_rates, color='g')\n",
    "ax2.plot(all_eta,  equal_opportunity, color='b')\n",
    "ax2.plot(all_eta,  average_odds, color='y')\n",
    "i = 0\n",
    "for metric in metrics:\n",
    "    for m in metrics[metric][1]:\n",
    "        if i in [0, 1, 5, 10, 15, 25, 20, 30]:\n",
    "            plt.plot(all_eta[i], m, marker=metrics[metric][0], color=metrics[metric][2], label=metric if i == 1 else \"\")\n",
    "            if i == 0:\n",
    "                if metric != 'average odds difference':\n",
    "                    plt.text(all_eta[i] * (1 + 0.01), m * (1 + 0.3) , round(m, 3), fontsize=12)\n",
    "                else:\n",
    "                    plt.text(all_eta[i] * (1 + 0.01), m * (1 + 0.01) , round(m, 3), fontsize=12)\n",
    "            else:\n",
    "                plt.text(all_eta[i] * (1 + 0.01), m * (1 + 0.01) , round(m, 3), fontsize=12)\n",
    "        i = i + 1\n",
    "    i = 0\n",
    "    #plt.plot(all_eta, metrics[metric][1], metrics[metric][0], label=metric)\n",
    "ax2.set_ylabel('closer to 0 is better', color='b', fontsize=16, fontweight='bold')\n",
    "ax2.yaxis.set_tick_params(labelsize=14)\n",
    "ax2.yaxis.set_major_formatter(FormatStrFormatter('%.4f'))\n",
    "#ax2.yaxis.set_major_locator(ticker.MultipleLocator(0.1))\n",
    "\n",
    "\n",
    "\n",
    "plt.legend(loc='lower left', bbox_to_anchor=(0,0), numpoints=1)\n",
    "yabs_max = abs(max(ax2.get_ylim(), key=abs))\n",
    "ax2.set_ylim(ymin=-yabs_max, ymax=yabs_max)\n",
    "ax2.grid(True)\n",
    "\n",
    "plt.savefig(\"fairness_metrics_all_lines.svg\")"
   ]
  },
  {
   "cell_type": "code",
   "execution_count": 273,
   "metadata": {},
   "outputs": [
    {
     "data": {
      "image/png": "[encoded data removed]",
      "text/plain": [
       "<Figure size 1080x576 with 2 Axes>"
      ]
     },
     "metadata": {
      "needs_background": "light"
     },
     "output_type": "display_data"
    }
   ],
   "source": [
    "fig, ax1 = plt.subplots(figsize=(15,8))\n",
    "ax1.plot(all_eta, accuracies, color='r')\n",
    "ax1.set_title('Accuracy and $\\gamma_{fdr}$ vs eta', fontsize=16, fontweight='bold')\n",
    "ax1.set_xlabel('Input eta', fontsize=16, fontweight='bold')\n",
    "ax1.set_ylabel('Accuracy', color='r', fontsize=16, fontweight='bold')\n",
    "ax1.xaxis.set_tick_params(labelsize=14)\n",
    "ax1.yaxis.set_tick_params(labelsize=14)\n",
    "\n",
    "for i in [0, 1, 5, 10, 15, 25, 20, 30]:\n",
    "\n",
    "    label = \"{:.2f}\".format(accuracies[i])\n",
    "\n",
    "    plt.annotate(label, # this is the text\n",
    "                 (i, accuracies[i],), # this is the point to label\n",
    "                 textcoords=\"offset points\", # how to position the text\n",
    "                 xytext=(0,-18), # distance from text to points (x,y)\n",
    "                 ha='center') # horizontal alignment can be left, right or center\n",
    "\n",
    "ax2 = ax1.twinx()    \n",
    "ax2.plot(all_eta,  false_discovery_rates, color='b')\n",
    "for i in [0, 1, 5, 10, 15, 25, 20, 30]:\n",
    "\n",
    "    label = \"{:.2f}\".format(false_discovery_rates[i])\n",
    "\n",
    "    plt.annotate(label, # this is the text\n",
    "                 (i, false_discovery_rates[i],), # this is the point to label\n",
    "                 textcoords=\"offset points\", # how to position the text\n",
    "                 xytext=(0,-18), # distance from text to points (x,y)\n",
    "                 ha='center') # horizontal alignment can be left, right or center\n",
    "ax2.set_ylabel('$\\gamma_{fdr}$', color='b', fontsize=16, fontweight='bold')\n",
    "ax2.yaxis.set_tick_params(labelsize=14)\n",
    "ax2.grid(True)\n",
    "\n",
    "plt.savefig(\"false_discovery_rates_with_accuracy.svg\")"
   ]
  },
  {
   "cell_type": "code",
   "execution_count": null,
   "metadata": {},
   "outputs": [],
   "source": [
    "for index, e in enumerate(eta):\n",
    "    print(f'eta {e}\\naccuracy {accuracies[index]}\\nstatistical paritity\\n{false_discovery_rates[index]}{statistical_rates[index]}\\n\\n')"
   ]
  },
  {
   "cell_type": "code",
   "execution_count": null,
   "metadata": {},
   "outputs": [],
   "source": []
  },
  {
   "cell_type": "code",
   "execution_count": null,
   "metadata": {},
   "outputs": [],
   "source": []
  },
  {
   "cell_type": "code",
   "execution_count": null,
   "metadata": {},
   "outputs": [],
   "source": []
  },
  {
   "cell_type": "code",
   "execution_count": null,
   "metadata": {},
   "outputs": [],
   "source": []
  }
 ],
 "metadata": {
  "kernelspec": {
   "display_name": ".venv",
   "language": "python",
   "name": ".venv"
  },
  "language_info": {
   "codemirror_mode": {
    "name": "ipython",
    "version": 3
   },
   "file_extension": ".py",
   "mimetype": "text/x-python",
   "name": "python",
   "nbconvert_exporter": "python",
   "pygments_lexer": "ipython3",
   "version": "3.6.9"
  }
 },
 "nbformat": 4,
 "nbformat_minor": 4
}
