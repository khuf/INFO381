{
 "cells": [
  {
   "cell_type": "markdown",
   "metadata": {},
   "source": [
    "## Exploratory Data Analysis\n",
    "\n",
    "**This notebook works through a preliminary data analysis of the CPS dataset available at https://www.kaggle.com/econdata/demographics-and-employment-in-the-united-states**"
   ]
  },
  {
   "cell_type": "code",
   "execution_count": 89,
   "metadata": {},
   "outputs": [],
   "source": [
    "from pandas import read_csv\n",
    "from pandas import crosstab\n",
    "from IPython.display import Markdown, display\n",
    "\n",
    "cps = read_csv(\"../data/CPSData.csv\")"
   ]
  },
  {
   "cell_type": "code",
   "execution_count": 2,
   "metadata": {},
   "outputs": [
    {
     "name": "stdout",
     "output_type": "stream",
     "text": [
      "<class 'pandas.core.frame.DataFrame'>\n",
      "RangeIndex: 131302 entries, 0 to 131301\n",
      "Data columns (total 14 columns):\n",
      " #   Column              Non-Null Count   Dtype  \n",
      "---  ------              --------------   -----  \n",
      " 0   PeopleInHousehold   131302 non-null  int64  \n",
      " 1   Region              131302 non-null  object \n",
      " 2   State               131302 non-null  object \n",
      " 3   MetroAreaCode       97064 non-null   float64\n",
      " 4   Age                 131302 non-null  int64  \n",
      " 5   Married             105964 non-null  object \n",
      " 6   Sex                 131302 non-null  object \n",
      " 7   Education           105964 non-null  object \n",
      " 8   Race                131302 non-null  object \n",
      " 9   Hispanic            131302 non-null  int64  \n",
      " 10  CountryOfBirthCode  131302 non-null  int64  \n",
      " 11  Citizenship         131302 non-null  object \n",
      " 12  EmploymentStatus    105513 non-null  object \n",
      " 13  Industry            66242 non-null   object \n",
      "dtypes: float64(1), int64(4), object(9)\n",
      "memory usage: 14.0+ MB\n"
     ]
    }
   ],
   "source": [
    "# Df metadata\n",
    "cps.info()"
   ]
  },
  {
   "cell_type": "code",
   "execution_count": 3,
   "metadata": {},
   "outputs": [
    {
     "data": {
      "text/plain": [
       "PeopleInHousehold      15\n",
       "Region                  4\n",
       "State                  51\n",
       "MetroAreaCode         264\n",
       "Age                    82\n",
       "Married                 5\n",
       "Sex                     2\n",
       "Education               8\n",
       "Race                    6\n",
       "Hispanic                2\n",
       "CountryOfBirthCode    161\n",
       "Citizenship             3\n",
       "EmploymentStatus        5\n",
       "Industry               14\n",
       "dtype: int64"
      ]
     },
     "execution_count": 3,
     "metadata": {},
     "output_type": "execute_result"
    }
   ],
   "source": [
    "# Number of unique values for each column \n",
    "cps.nunique()"
   ]
  },
  {
   "cell_type": "code",
   "execution_count": 74,
   "metadata": {},
   "outputs": [
    {
     "data": {
      "text/markdown": [
       "## Basic statistics"
      ],
      "text/plain": [
       "<IPython.core.display.Markdown object>"
      ]
     },
     "metadata": {},
     "output_type": "display_data"
    },
    {
     "data": {
      "text/markdown": [
       "#### Proportions of male and female"
      ],
      "text/plain": [
       "<IPython.core.display.Markdown object>"
      ]
     },
     "metadata": {},
     "output_type": "display_data"
    },
    {
     "name": "stdout",
     "output_type": "stream",
     "text": [
      "Female    51.393734\n",
      "Male      48.606266\n",
      "Name: Sex, dtype: float64\n"
     ]
    },
    {
     "data": {
      "text/markdown": [
       "#### Distribution across races"
      ],
      "text/plain": [
       "<IPython.core.display.Markdown object>"
      ]
     },
     "metadata": {},
     "output_type": "display_data"
    },
    {
     "name": "stdout",
     "output_type": "stream",
     "text": [
      "White               80.669754\n",
      "Black               10.596183\n",
      "Asian                4.965652\n",
      "Multiracial          2.206364\n",
      "American Indian      1.091377\n",
      "Pacific Islander     0.470671\n",
      "Name: Race, dtype: float64\n"
     ]
    }
   ],
   "source": [
    "display(Markdown(\"## Basic statistics\"))\n",
    "display(Markdown(\"#### Proportions of male and female\"))\n",
    "print(f'{cps.Sex.value_counts(normalize=True)*100}')\n",
    "display(Markdown(\"#### Distribution across races\"))\n",
    "print(f'{cps.Race.value_counts(normalize=True)*100}')"
   ]
  },
  {
   "cell_type": "markdown",
   "metadata": {},
   "source": [
    "## Group age by decade"
   ]
  },
  {
   "cell_type": "code",
   "execution_count": 67,
   "metadata": {},
   "outputs": [
    {
     "data": {
      "text/plain": [
       "<matplotlib.axes._subplots.AxesSubplot at 0x1d96adbd0>"
      ]
     },
     "execution_count": 67,
     "metadata": {},
     "output_type": "execute_result"
    },
    {
     "data": {
      "image/png": "[encoded data removed]",
      "text/plain": [
       "<Figure size 432x432 with 1 Axes>"
      ]
     },
     "metadata": {
      "needs_background": "light"
     },
     "output_type": "display_data"
    }
   ],
   "source": [
    "# Group records by decade. Everyone below the legal working age of 14 is assigned to their own group.\n",
    "cps['age_by_decade'] = cps['Age'].apply(lambda x: 'Below legal working age' if x < 14 else x//10*10)\n",
    "\n",
    "cps.age_by_decade.value_counts().sort_values().plot(kind=\"barh\", figsize=(6,6))"
   ]
  },
  {
   "cell_type": "code",
   "execution_count": null,
   "metadata": {
    "scrolled": true
   },
   "outputs": [],
   "source": []
  },
  {
   "cell_type": "markdown",
   "metadata": {},
   "source": [
    "## Employment status distribution"
   ]
  },
  {
   "cell_type": "code",
   "execution_count": 75,
   "metadata": {},
   "outputs": [
    {
     "data": {
      "text/markdown": [
       "#### Before grouping disabled and retired"
      ],
      "text/plain": [
       "<IPython.core.display.Markdown object>"
      ]
     },
     "metadata": {},
     "output_type": "display_data"
    },
    {
     "data": {
      "text/plain": [
       "<matplotlib.axes._subplots.AxesSubplot at 0x117363850>"
      ]
     },
     "execution_count": 75,
     "metadata": {},
     "output_type": "execute_result"
    },
    {
     "data": {
      "image/png": "[encoded data removed]",
      "text/plain": [
       "<Figure size 432x288 with 1 Axes>"
      ]
     },
     "metadata": {
      "needs_background": "light"
     },
     "output_type": "display_data"
    }
   ],
   "source": [
    "display(Markdown(\"#### Before grouping disabled and retired\"))\n",
    "# Employment status distribution \n",
    "cps.EmploymentStatus.value_counts().sort_values().plot(kind=\"bar\")"
   ]
  },
  {
   "cell_type": "code",
   "execution_count": 78,
   "metadata": {},
   "outputs": [
    {
     "data": {
      "text/markdown": [
       "#### Employment status distribution after grouping retired and disabled"
      ],
      "text/plain": [
       "<IPython.core.display.Markdown object>"
      ]
     },
     "metadata": {},
     "output_type": "display_data"
    },
    {
     "data": {
      "text/plain": [
       "<matplotlib.axes._subplots.AxesSubplot at 0x1df424710>"
      ]
     },
     "execution_count": 78,
     "metadata": {},
     "output_type": "execute_result"
    },
    {
     "data": {
      "image/png": "[encoded data removed]",
      "text/plain": [
       "<Figure size 432x288 with 1 Axes>"
      ]
     },
     "metadata": {
      "needs_background": "light"
     },
     "output_type": "display_data"
    }
   ],
   "source": [
    "display(Markdown('#### Employment status distribution after grouping retired and disabled'))\n",
    "# Employment status distribution \n",
    "cps['employment_status_grouped'] = cps['EmploymentStatus'].\\\n",
    "apply(lambda x: 'Ineligible' if x == \"Retired\" or x == \"Disabled\" else x)\n",
    "\n",
    "\n",
    "cps.employment_status_grouped.value_counts().sort_values().plot(kind=\"barh\")"
   ]
  },
  {
   "cell_type": "code",
   "execution_count": 83,
   "metadata": {},
   "outputs": [
    {
     "data": {
      "text/markdown": [
       "#### EmploymentStatus distribution across race"
      ],
      "text/plain": [
       "<IPython.core.display.Markdown object>"
      ]
     },
     "metadata": {},
     "output_type": "display_data"
    },
    {
     "name": "stdout",
     "output_type": "stream",
     "text": [
      "employment_status_grouped  Employed  Ineligible  Not in Labor Force  \\\n",
      "Race                                                                  \n",
      "American Indian                 535         213                 231   \n",
      "Asian                          3206         805                1091   \n",
      "Black                          5552        2603                1834   \n",
      "Multiracial                     920         264                 393   \n",
      "Pacific Islander                270          66                 100   \n",
      "White                         51250       20380               11597   \n",
      "\n",
      "employment_status_grouped  Unemployed  \n",
      "Race                                   \n",
      "American Indian                    83  \n",
      "Asian                             165  \n",
      "Black                             806  \n",
      "Multiracial                        97  \n",
      "Pacific Islander                   26  \n",
      "White                            3026  \n"
     ]
    },
    {
     "data": {
      "text/plain": [
       "<matplotlib.axes._subplots.AxesSubplot at 0x1df43d610>"
      ]
     },
     "execution_count": 83,
     "metadata": {},
     "output_type": "execute_result"
    },
    {
     "data": {
      "image/png": "[encoded data removed]",
      "text/plain": [
       "<Figure size 1440x720 with 1 Axes>"
      ]
     },
     "metadata": {
      "needs_background": "light"
     },
     "output_type": "display_data"
    }
   ],
   "source": [
    "display(Markdown(\"#### EmploymentStatus distribution across race\"))\n",
    "print(crosstab(cps['Race'], columns=cps['employment_status_grouped']))\n",
    "crosstab(cps['Race'], columns=cps['employment_status_grouped']).plot(kind=\"bar\", logy=True, figsize=(20,10),\\\n",
    "                                                           title=\"Employment status distribution across races\",\\\n",
    "                                                           fontsize=16)"
   ]
  },
  {
   "cell_type": "code",
   "execution_count": 88,
   "metadata": {},
   "outputs": [
    {
     "data": {
      "text/markdown": [
       "## Proportion of white and non-white"
      ],
      "text/plain": [
       "<IPython.core.display.Markdown object>"
      ]
     },
     "metadata": {},
     "output_type": "display_data"
    },
    {
     "data": {
      "text/plain": [
       "1.0    105921\n",
       "0.0     25381\n",
       "Name: race_binary, dtype: int64"
      ]
     },
     "execution_count": 88,
     "metadata": {},
     "output_type": "execute_result"
    }
   ],
   "source": [
    "display(Markdown(\"## Proportion of white and non-white\"))\n",
    "# White vs non-white\n",
    "cps[\"race_binary\"] = cps[\"Race\"].apply(lambda x: 1.0 if x =='White' else 0.0)\n",
    "\n",
    "cps['race_binary'].value_counts()"
   ]
  },
  {
   "cell_type": "code",
   "execution_count": 86,
   "metadata": {},
   "outputs": [
    {
     "data": {
      "text/html": [
       "<div>\n",
       "<style scoped>\n",
       "    .dataframe tbody tr th:only-of-type {\n",
       "        vertical-align: middle;\n",
       "    }\n",
       "\n",
       "    .dataframe tbody tr th {\n",
       "        vertical-align: top;\n",
       "    }\n",
       "\n",
       "    .dataframe thead th {\n",
       "        text-align: right;\n",
       "    }\n",
       "</style>\n",
       "<table border=\"1\" class=\"dataframe\">\n",
       "  <thead>\n",
       "    <tr style=\"text-align: right;\">\n",
       "      <th>EmploymentStatus</th>\n",
       "      <th>Disabled</th>\n",
       "      <th>Employed</th>\n",
       "      <th>Not in Labor Force</th>\n",
       "      <th>Retired</th>\n",
       "      <th>Unemployed</th>\n",
       "    </tr>\n",
       "    <tr>\n",
       "      <th>Sex</th>\n",
       "      <th></th>\n",
       "      <th></th>\n",
       "      <th></th>\n",
       "      <th></th>\n",
       "      <th></th>\n",
       "    </tr>\n",
       "  </thead>\n",
       "  <tbody>\n",
       "    <tr>\n",
       "      <th>Female</th>\n",
       "      <td>3007</td>\n",
       "      <td>29614</td>\n",
       "      <td>9910</td>\n",
       "      <td>10715</td>\n",
       "      <td>1966</td>\n",
       "    </tr>\n",
       "    <tr>\n",
       "      <th>Male</th>\n",
       "      <td>2705</td>\n",
       "      <td>32119</td>\n",
       "      <td>5336</td>\n",
       "      <td>7904</td>\n",
       "      <td>2237</td>\n",
       "    </tr>\n",
       "  </tbody>\n",
       "</table>\n",
       "</div>"
      ],
      "text/plain": [
       "EmploymentStatus  Disabled  Employed  Not in Labor Force  Retired  Unemployed\n",
       "Sex                                                                          \n",
       "Female                3007     29614                9910    10715        1966\n",
       "Male                  2705     32119                5336     7904        2237"
      ]
     },
     "execution_count": 86,
     "metadata": {},
     "output_type": "execute_result"
    }
   ],
   "source": [
    "# EmploymentStatus distribution across genders\n",
    "crosstab(cps['Sex'], columns=cps['EmploymentStatus'])"
   ]
  },
  {
   "cell_type": "code",
   "execution_count": null,
   "metadata": {},
   "outputs": [],
   "source": []
  }
 ],
 "metadata": {
  "kernelspec": {
   "display_name": ".venv",
   "language": "python",
   "name": ".venv"
  },
  "language_info": {
   "codemirror_mode": {
    "name": "ipython",
    "version": 3
   },
   "file_extension": ".py",
   "mimetype": "text/x-python",
   "name": "python",
   "nbconvert_exporter": "python",
   "pygments_lexer": "ipython3",
   "version": "3.7.7"
  }
 },
 "nbformat": 4,
 "nbformat_minor": 2
}
