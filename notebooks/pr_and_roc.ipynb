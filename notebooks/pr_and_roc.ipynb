{
 "cells": [
  {
   "cell_type": "code",
   "execution_count": 16,
   "metadata": {},
   "outputs": [],
   "source": [
    "%matplotlib inline\n",
    "import os\n",
    "import sys\n",
    "sys.path.insert(0, os.path.abspath('../src'))\n",
    "from tqdm import tqdm\n",
    "from warnings import warn\n",
    "\n",
    "import numpy as np\n",
    "import pandas as pd\n",
    "\n",
    "from IPython.display import Markdown, display\n",
    "from aif360.metrics import BinaryLabelDatasetMetric\n",
    "from aif360.metrics import ClassificationMetric\n",
    "from common_utils import compute_metrics\n",
    "from aif360.algorithms.inprocessing import PrejudiceRemover\n",
    "from aif360.datasets import BinaryLabelDataset\n",
    "from aif360.algorithms.postprocessing.reject_option_classification\\\n",
    "        import RejectOptionClassification\n",
    "\n",
    "from matplotlib.ticker import FormatStrFormatter\n",
    "import matplotlib.ticker as ticker\n",
    "import matplotlib.pyplot as plt\n",
    "\n",
    "from sklearn.linear_model import LogisticRegression\n",
    "from sklearn.preprocessing import StandardScaler\n",
    "from sklearn.metrics import roc_curve, auc, roc_auc_score\n",
    "from sklearn.preprocessing import StandardScaler\n",
    "\n",
    "\n",
    "# Import employment dataset \n",
    "from EmploymentDataset import EmploymentDataset\n",
    "from util import preprocess_employment"
   ]
  },
  {
   "cell_type": "code",
   "execution_count": 95,
   "metadata": {},
   "outputs": [],
   "source": [
    "privileged_groups = [{'Race': 1}]\n",
    "unprivileged_groups = [{'Race': 0}]\n",
    "\n",
    "# Fairness penalty paramenters\n",
    "eta = [0.0, 1.0, 2.0, 3.0, 4.0, 5.0, 10.0, 15.0, 20.0, 30.0, 40.0, 50.0, 100.0, 150.0, 200.0, 250.0, 300.0] \n",
    "\n",
    "\n",
    "prejudice_remover = PrejudiceRemover(eta=22, sensitive_attr = 'Race', class_attr='EmploymentStatus')\n",
    "prejudice_no_penalty = PrejudiceRemover(eta= 1, sensitive_attr = 'Race', class_attr='EmploymentStatus')\n",
    " \n",
    "# Import the dataset\n",
    "dataset_orig = preprocess_employment()\n",
    "\n",
    "# Split into train and test (70% train, 15% validate & 15% train)\n",
    "dataset_orig_train, dataset_orig_vt = dataset_orig.split([0.7], shuffle=True)\n",
    "dataset_orig_valid, dataset_orig_test = dataset_orig_vt.split([0.5], shuffle=True)\n",
    "\n",
    "#train = dataset_orig_train.copy(deepcopy=True)\n",
    "#test = dataset_orig_vt.copy(deepcopy=True)\n",
    "train, test = dataset_orig.split([0.8], shuffle=True)\n",
    "\n",
    "# Measures the difference between favorable outcome for the unprivileged group to the privileged group\n",
    "metric_name = \"Statistical parity difference\"\n",
    "\n",
    "# Upper and lower bound of constraint on the metric value\n",
    "metric_ub = 0.05\n",
    "metric_lb = -0.05\n",
    "        \n",
    "#random seed for calibrated equal odds prediction\n",
    "np.random.seed(1)\n",
    "\n",
    "# Optimization metrics available for ROC. Have to be one of these.\n",
    "allowed_metrics = [\"Statistical parity difference\",\n",
    "                   \"Average odds difference\",\n",
    "                   \"Equal opportunity difference\"]\n",
    "\n",
    "\n",
    "if metric_name not in allowed_metrics:\n",
    "    raise ValueError(\"Metric name should be one of allowed metrics\")"
   ]
  },
  {
   "cell_type": "code",
   "execution_count": 96,
   "metadata": {},
   "outputs": [
    {
     "data": {
      "text/markdown": [
       "#### Training Dataset shape"
      ],
      "text/plain": [
       "<IPython.core.display.Markdown object>"
      ]
     },
     "metadata": {},
     "output_type": "display_data"
    },
    {
     "name": "stdout",
     "output_type": "stream",
     "text": [
      "(56827, 42)\n"
     ]
    },
    {
     "data": {
      "text/markdown": [
       "#### Favorable and unfavorable labels"
      ],
      "text/plain": [
       "<IPython.core.display.Markdown object>"
      ]
     },
     "metadata": {},
     "output_type": "display_data"
    },
    {
     "name": "stdout",
     "output_type": "stream",
     "text": [
      "1.0 0.0\n"
     ]
    },
    {
     "data": {
      "text/markdown": [
       "#### Protected attribute names"
      ],
      "text/plain": [
       "<IPython.core.display.Markdown object>"
      ]
     },
     "metadata": {},
     "output_type": "display_data"
    },
    {
     "name": "stdout",
     "output_type": "stream",
     "text": [
      "['Sex', 'Race']\n"
     ]
    },
    {
     "data": {
      "text/markdown": [
       "#### Privileged and unprivileged protected attribute values"
      ],
      "text/plain": [
       "<IPython.core.display.Markdown object>"
      ]
     },
     "metadata": {},
     "output_type": "display_data"
    },
    {
     "name": "stdout",
     "output_type": "stream",
     "text": [
      "[array([1.]), array([1.])] [array([0.]), array([0.])]\n"
     ]
    },
    {
     "data": {
      "text/markdown": [
       "#### Dataset feature names"
      ],
      "text/plain": [
       "<IPython.core.display.Markdown object>"
      ]
     },
     "metadata": {},
     "output_type": "display_data"
    },
    {
     "name": "stdout",
     "output_type": "stream",
     "text": [
      "['Sex', 'Race', 'Region=0', 'Region=1', 'Region=2', 'Region=3', 'Married=0', 'Married=1', 'Married=2', 'Married=3', 'Married=4', 'Education=0', 'Education=1', 'Education=2', 'Education=3', 'Education=4', 'Education=5', 'Education=6', 'Education=7', 'Citizenship=Native', 'Citizenship=Non Native', 'Industry=0', 'Industry=1', 'Industry=2', 'Industry=3', 'Industry=4', 'Industry=5', 'Industry=6', 'Industry=7', 'Industry=8', 'Industry=9', 'Industry=10', 'Industry=11', 'Industry=12', 'Industry=13', 'age_by_decade=10', 'age_by_decade=20', 'age_by_decade=30', 'age_by_decade=40', 'age_by_decade=50', 'age_by_decade=60', 'age_by_decade=>=70']\n"
     ]
    }
   ],
   "source": [
    "# Display dataset shape, privileged/unprivileged classes and attribute\n",
    "display(Markdown(\"#### Training Dataset shape\"))\n",
    "print(dataset_orig_train.features.shape)\n",
    "display(Markdown(\"#### Favorable and unfavorable labels\"))\n",
    "print(dataset_orig_train.favorable_label, dataset_orig_train.unfavorable_label)\n",
    "display(Markdown(\"#### Protected attribute names\"))\n",
    "print(dataset_orig_train.protected_attribute_names)\n",
    "display(Markdown(\"#### Privileged and unprivileged protected attribute values\"))\n",
    "print(dataset_orig_train.privileged_protected_attributes, \n",
    "      dataset_orig_train.unprivileged_protected_attributes)\n",
    "display(Markdown(\"#### Dataset feature names\"))\n",
    "print(dataset_orig_train.feature_names)\n",
    "\n",
    "df = dataset_orig_train.convert_to_dataframe()\n"
   ]
  },
  {
   "cell_type": "code",
   "execution_count": 97,
   "metadata": {},
   "outputs": [
    {
     "data": {
      "text/markdown": [
       "#### Original training dataset"
      ],
      "text/plain": [
       "<IPython.core.display.Markdown object>"
      ]
     },
     "metadata": {},
     "output_type": "display_data"
    },
    {
     "data": {
      "text/markdown": [
       "A value of 1 indicates full discrimination, while -1 is the reverse discrimination case. A value close to 0 is favorable. (1 - mean difference)"
      ],
      "text/plain": [
       "<IPython.core.display.Markdown object>"
      ]
     },
     "metadata": {},
     "output_type": "display_data"
    },
    {
     "name": "stdout",
     "output_type": "stream",
     "text": [
      "The difference in mean outcomes between unprivileged and privileged groups is -0.097312\n"
     ]
    }
   ],
   "source": [
    "metric_orig_train = BinaryLabelDatasetMetric(dataset_orig_train, \n",
    "                                             unprivileged_groups=unprivileged_groups,\n",
    "                                             privileged_groups=privileged_groups)\n",
    "display(Markdown(\"#### Original training dataset\"))\n",
    "display(Markdown('A value of 1 indicates full discrimination, while -1 is the reverse discrimination case. A value close to 0 is favorable. (1 - mean difference)'))\n",
    "print(f'The difference in mean outcomes between unprivileged and privileged groups is { metric_orig_train.mean_difference():.6f}')"
   ]
  },
  {
   "cell_type": "code",
   "execution_count": 98,
   "metadata": {},
   "outputs": [
    {
     "data": {
      "text/markdown": [
       "#### Scaled dataset - Verify that the scaling does not affect the group label statistics"
      ],
      "text/plain": [
       "<IPython.core.display.Markdown object>"
      ]
     },
     "metadata": {},
     "output_type": "display_data"
    },
    {
     "name": "stdout",
     "output_type": "stream",
     "text": [
      "Train set: Difference in mean outcomes between unprivileged and privileged groups = -0.094392\n",
      "Test set: Difference in mean outcomes between unprivileged and privileged groups = -0.088689\n"
     ]
    }
   ],
   "source": [
    "standard_scaler = StandardScaler()\n",
    "train.features = standard_scaler.fit_transform(train.features)\n",
    "test.features = standard_scaler.transform(test.features)\n",
    "metric_scaled_train = BinaryLabelDatasetMetric(train, \n",
    "                             unprivileged_groups=unprivileged_groups,\n",
    "                             privileged_groups=privileged_groups)\n",
    "display(Markdown(\"#### Scaled dataset - Verify that the scaling does not affect the group label statistics\"))\n",
    "print(\"Train set: Difference in mean outcomes between unprivileged and privileged groups = %f\" % metric_scaled_train.mean_difference())\n",
    "metric_scaled_test = BinaryLabelDatasetMetric(test, \n",
    "                             unprivileged_groups=unprivileged_groups,\n",
    "                             privileged_groups=privileged_groups)\n",
    "print(\"Test set: Difference in mean outcomes between unprivileged and privileged groups = %f\" % metric_scaled_test.mean_difference())"
   ]
  },
  {
   "cell_type": "code",
   "execution_count": 99,
   "metadata": {},
   "outputs": [],
   "source": [
    "# Train model with eta = 10\n",
    "prejudice_remover.fit(train)\n",
    "# Apply the prejudice remover model to test data\n",
    "dataset_train_transformed = prejudice_remover.predict(train)\n",
    "dataset_test_transformed = prejudice_remover.predict(test)\n",
    "\n",
    "# Standardize data to normal disrtibution, i.e transform columns to a common scale (numerical values)\n",
    "X_train = standard_scaler.fit_transform(dataset_orig_train.features)\n",
    "y_train = dataset_orig_train.labels.ravel()\n",
    "\n",
    "lmod = LogisticRegression()\n",
    "lmod.fit(X_train, y_train)\n",
    "y_train_pred = lmod.predict(X_train)\n",
    "\n",
    "# index to positive class\n",
    "pos_ind = np.where(lmod.classes_ == dataset_orig_train.favorable_label)[0][0]\n",
    "\n",
    "# Get predictions and labels\n",
    "dataset_orig_train_pred = dataset_orig_train.copy(deepcopy=True)\n",
    "dataset_orig_train_pred.labels = y_train_pred"
   ]
  },
  {
   "cell_type": "code",
   "execution_count": 100,
   "metadata": {},
   "outputs": [
    {
     "data": {
      "text/markdown": [
       "## Prejudice Remover with fairness constraints (eta = 10) - dataset metrics"
      ],
      "text/plain": [
       "<IPython.core.display.Markdown object>"
      ]
     },
     "metadata": {},
     "output_type": "display_data"
    },
    {
     "data": {
      "text/markdown": [
       "#### Model with debiasing - dataset metrics"
      ],
      "text/plain": [
       "<IPython.core.display.Markdown object>"
      ]
     },
     "metadata": {},
     "output_type": "display_data"
    },
    {
     "name": "stdout",
     "output_type": "stream",
     "text": [
      "Train set: Difference in mean outcomes between unprivileged and privileged groups = -0.022634\n",
      "Test set: Difference in mean outcomes between unprivileged and privileged groups = -0.024349\n"
     ]
    },
    {
     "data": {
      "text/markdown": [
       "#### Model with biasing - classification metrics (test set)"
      ],
      "text/plain": [
       "<IPython.core.display.Markdown object>"
      ]
     },
     "metadata": {},
     "output_type": "display_data"
    },
    {
     "name": "stdout",
     "output_type": "stream",
     "text": [
      "Test set: Classification accuracy = 0.851019\n",
      "Balanced classification accuracy = 0.753391\n",
      "Test set: Disparate impact = 0.970476\n",
      "Test set: Equal opportunity difference = -0.023592\n",
      "Test set: Statistical parity difference = -0.024349\n",
      "Test set: Average odds difference = 0.051657\n",
      "Test set: Theil_index = 0.077232\n"
     ]
    }
   ],
   "source": [
    "###### Debiasing begins here (Prejudice) ############\n",
    "\n",
    "\n",
    "display(Markdown(\"## Prejudice Remover with fairness constraints (eta = 10) - dataset metrics\"))\n",
    "\n",
    "# Metrics for the dataset from model with debiasing\n",
    "display(Markdown(\"#### Model with debiasing - dataset metrics\"))\n",
    "metric_dataset_prejudiceremover_train = BinaryLabelDatasetMetric(dataset_train_transformed, \n",
    "                                             unprivileged_groups=unprivileged_groups,\n",
    "                                             privileged_groups=privileged_groups)\n",
    "\n",
    "print(\"Train set: Difference in mean outcomes between unprivileged and privileged groups = %f\" % metric_dataset_prejudiceremover_train.mean_difference())\n",
    "\n",
    "metric_dataset_prejudiceremover_test = BinaryLabelDatasetMetric(dataset_test_transformed, \n",
    "                                             unprivileged_groups=unprivileged_groups,\n",
    "                                             privileged_groups=privileged_groups)\n",
    "\n",
    "print(\"Test set: Difference in mean outcomes between unprivileged and privileged groups = %f\" % metric_dataset_prejudiceremover_test.mean_difference())\n",
    "\n",
    "display(Markdown(\"#### Model with biasing - classification metrics (test set)\"))\n",
    "classified_metric_prejudiceremover_test = ClassificationMetric(test, \n",
    "                                                 dataset_test_transformed,\n",
    "                                                 unprivileged_groups=unprivileged_groups,\n",
    "                                                 privileged_groups=privileged_groups)\n",
    "print(\"Test set: Classification accuracy = %f\" % classified_metric_prejudiceremover_test.accuracy())\n",
    "TPR = classified_metric_prejudiceremover_test.true_positive_rate()\n",
    "TNR = classified_metric_prejudiceremover_test.true_negative_rate()\n",
    "bal_acc_predjudiceremover_test = 0.5*(TPR+TNR)\n",
    "print(\"Balanced classification accuracy = %f\" % bal_acc_predjudiceremover_test)\n",
    "print(\"Test set: Disparate impact = %f\" % classified_metric_prejudiceremover_test.disparate_impact())\n",
    "print(\"Test set: Equal opportunity difference = %f\" % classified_metric_prejudiceremover_test.equal_opportunity_difference())\n",
    "print(\"Test set: Statistical parity difference = %f\" % classified_metric_prejudiceremover_test.mean_difference())\n",
    "print(\"Test set: Average odds difference = %f\" % classified_metric_prejudiceremover_test.average_odds_difference())\n",
    "print(\"Test set: Theil_index = %f\" % classified_metric_prejudiceremover_test.theil_index())"
   ]
  },
  {
   "cell_type": "markdown",
   "metadata": {},
   "source": [
    "**Obtain scores for validation and test sets**"
   ]
  },
  {
   "cell_type": "code",
   "execution_count": 101,
   "metadata": {},
   "outputs": [],
   "source": [
    "# Same procedure, but for validation set\n",
    "dataset_orig_valid_pred = dataset_orig_valid.copy(deepcopy=True)\n",
    "X_valid = standard_scaler.transform(dataset_orig_valid_pred.features)\n",
    "y_valid = dataset_orig_valid_pred.labels\n",
    "dataset_orig_valid_pred.scores = lmod.predict_proba(X_valid)[:,pos_ind].reshape(-1,1)\n",
    "\n",
    "dataset_orig_test_pred = dataset_orig_test.copy(deepcopy=True)\n",
    "X_test = standard_scaler.transform(dataset_orig_test_pred.features)\n",
    "y_test = dataset_orig_test_pred.labels\n",
    "dataset_orig_test_pred.scores = lmod.predict_proba(X_test)[:,pos_ind].reshape(-1,1)"
   ]
  },
  {
   "cell_type": "code",
   "execution_count": 102,
   "metadata": {},
   "outputs": [
    {
     "name": "stdout",
     "output_type": "stream",
     "text": [
      "Best balanced accuracy (no fairness constraints) = 0.8097\n",
      "Optimal classification threshold (no fairness constraints) = 0.7326\n"
     ]
    }
   ],
   "source": [
    "num_thresh = 100\n",
    "ba_arr = np.zeros(num_thresh)\n",
    "class_thresh_arr = np.linspace(0.01, 0.99, num_thresh)\n",
    "for idx, class_thresh in enumerate(class_thresh_arr):\n",
    "    \n",
    "    fav_inds = dataset_orig_valid_pred.scores > class_thresh\n",
    "    dataset_orig_valid_pred.labels[fav_inds] = dataset_orig_valid_pred.favorable_label\n",
    "    dataset_orig_valid_pred.labels[~fav_inds] = dataset_orig_valid_pred.unfavorable_label\n",
    "    \n",
    "    classified_metric_orig_valid = ClassificationMetric(dataset_orig_valid,\n",
    "                                             dataset_orig_valid_pred, \n",
    "                                             unprivileged_groups=unprivileged_groups,\n",
    "                                             privileged_groups=privileged_groups)\n",
    "    \n",
    "    ba_arr[idx] = 0.5*(classified_metric_orig_valid.true_positive_rate()\\\n",
    "                       +classified_metric_orig_valid.true_negative_rate())\n",
    "\n",
    "best_ind = np.where(ba_arr == np.max(ba_arr))[0][0]\n",
    "best_class_thresh = class_thresh_arr[best_ind]\n",
    "\n",
    "print(\"Best balanced accuracy (no fairness constraints) = %.4f\" % np.max(ba_arr))\n",
    "print(\"Optimal classification threshold (no fairness constraints) = %.4f\" % best_class_thresh)\n"
   ]
  },
  {
   "cell_type": "code",
   "execution_count": 103,
   "metadata": {},
   "outputs": [
    {
     "name": "stdout",
     "output_type": "stream",
     "text": [
      "Optimal classification threshold (with fairness constraints) = 0.6831\n",
      "Optimal ROC margin = 0.0776\n"
     ]
    }
   ],
   "source": [
    "# Use upper and lower bound constraint for tweaking (metric_ub and metric_lb)\n",
    "ROC = RejectOptionClassification(unprivileged_groups=unprivileged_groups, \n",
    "                                 privileged_groups=privileged_groups, \n",
    "                                 low_class_thresh=0.01, high_class_thresh=0.99,\n",
    "                                  num_class_thresh=100, num_ROC_margin=50,\n",
    "                                  metric_name=metric_name,\n",
    "                                  metric_ub=metric_ub, metric_lb=metric_lb)\n",
    "ROC = ROC.fit(dataset_orig_valid, dataset_orig_valid_pred)\n",
    "\n",
    "print(\"Optimal classification threshold (with fairness constraints) = %.4f\" % ROC.classification_threshold)\n",
    "print(\"Optimal ROC margin = %.4f\" % ROC.ROC_margin)"
   ]
  },
  {
   "cell_type": "code",
   "execution_count": 104,
   "metadata": {},
   "outputs": [
    {
     "data": {
      "text/markdown": [
       "#### Validation set"
      ],
      "text/plain": [
       "<IPython.core.display.Markdown object>"
      ]
     },
     "metadata": {},
     "output_type": "display_data"
    },
    {
     "data": {
      "text/markdown": [
       "##### Raw predictions - No fairness constraints, only maximizing balanced accuracy"
      ],
      "text/plain": [
       "<IPython.core.display.Markdown object>"
      ]
     },
     "metadata": {},
     "output_type": "display_data"
    },
    {
     "name": "stdout",
     "output_type": "stream",
     "text": [
      "Balanced accuracy = 0.8097\n",
      "Statistical parity difference = -0.1352\n",
      "Disparate impact = 0.8069\n",
      "Average odds difference = -0.0663\n",
      "Equal opportunity difference = -0.0918\n",
      "Theil index = 0.1607\n"
     ]
    },
    {
     "data": {
      "text/markdown": [
       "##### Transformed predictions - With fairness constraints"
      ],
      "text/plain": [
       "<IPython.core.display.Markdown object>"
      ]
     },
     "metadata": {},
     "output_type": "display_data"
    },
    {
     "name": "stdout",
     "output_type": "stream",
     "text": [
      "Balanced accuracy = 0.8064\n",
      "Statistical parity difference = -0.0468\n",
      "Disparate impact = 0.9312\n",
      "Average odds difference = 0.0205\n",
      "Equal opportunity difference = -0.0010\n",
      "Theil index = 0.1649\n"
     ]
    }
   ],
   "source": [
    "# Metrics for the validation set (no fairnesss constraints)\n",
    "fav_inds = dataset_orig_valid_pred.scores > best_class_thresh\n",
    "dataset_orig_valid_pred.labels[fav_inds] = dataset_orig_valid_pred.favorable_label\n",
    "dataset_orig_valid_pred.labels[~fav_inds] = dataset_orig_valid_pred.unfavorable_label\n",
    "\n",
    "display(Markdown(\"#### Validation set\"))\n",
    "display(Markdown(\"##### Raw predictions - No fairness constraints, only maximizing balanced accuracy\"))\n",
    "\n",
    "metric_valid_bef = compute_metrics(dataset_orig_valid, dataset_orig_valid_pred, \n",
    "                unprivileged_groups, privileged_groups)\n",
    "\n",
    "# Metrics for the validation set (with fairness constraints)\n",
    "\n",
    "# Transform the validation set\n",
    "dataset_transf_valid_pred = ROC.predict(dataset_orig_valid_pred)\n",
    "\n",
    "display(Markdown(\"##### Transformed predictions - With fairness constraints\"))\n",
    "metric_valid_aft = compute_metrics(dataset_orig_valid, dataset_transf_valid_pred, \n",
    "                unprivileged_groups, privileged_groups)"
   ]
  },
  {
   "cell_type": "code",
   "execution_count": 105,
   "metadata": {},
   "outputs": [],
   "source": [
    "# Testing: Check if the metric optimized has not become worse\n",
    "assert np.abs(metric_valid_aft[metric_name]) <= np.abs(metric_valid_bef[metric_name])"
   ]
  },
  {
   "cell_type": "markdown",
   "metadata": {},
   "source": [
    "# Predictions from test set"
   ]
  },
  {
   "cell_type": "code",
   "execution_count": 106,
   "metadata": {},
   "outputs": [
    {
     "data": {
      "text/markdown": [
       "#### Test set"
      ],
      "text/plain": [
       "<IPython.core.display.Markdown object>"
      ]
     },
     "metadata": {},
     "output_type": "display_data"
    },
    {
     "data": {
      "text/markdown": [
       "##### Raw predictions - No fairness constraints, only maximizing balanced accuracy"
      ],
      "text/plain": [
       "<IPython.core.display.Markdown object>"
      ]
     },
     "metadata": {},
     "output_type": "display_data"
    },
    {
     "name": "stdout",
     "output_type": "stream",
     "text": [
      "Balanced accuracy = 0.8014\n",
      "Statistical parity difference = -0.1184\n",
      "Disparate impact = 0.8317\n",
      "Average odds difference = -0.0622\n",
      "Equal opportunity difference = -0.0922\n",
      "Theil index = 0.1637\n"
     ]
    },
    {
     "data": {
      "text/markdown": [
       "#### Test set"
      ],
      "text/plain": [
       "<IPython.core.display.Markdown object>"
      ]
     },
     "metadata": {},
     "output_type": "display_data"
    },
    {
     "data": {
      "text/markdown": [
       "##### Transformed predictions - With fairness constraints"
      ],
      "text/plain": [
       "<IPython.core.display.Markdown object>"
      ]
     },
     "metadata": {},
     "output_type": "display_data"
    },
    {
     "name": "stdout",
     "output_type": "stream",
     "text": [
      "Balanced accuracy = 0.7981\n",
      "Statistical parity difference = -0.0334\n",
      "Disparate impact = 0.9510\n",
      "Average odds difference = 0.0207\n",
      "Equal opportunity difference = -0.0049\n",
      "Theil index = 0.1688\n",
      "The difference in mean outcomes between unprivileged and privileged groups is -0.033447\n"
     ]
    }
   ],
   "source": [
    "# Metrics for the test set (no fairness constraints)\n",
    "fav_inds = dataset_orig_test_pred.scores > best_class_thresh\n",
    "dataset_orig_test_pred.labels[fav_inds] = dataset_orig_test_pred.favorable_label\n",
    "dataset_orig_test_pred.labels[~fav_inds] = dataset_orig_test_pred.unfavorable_label\n",
    "\n",
    "\n",
    "display(Markdown(\"#### Test set\"))\n",
    "display(Markdown(\"##### Raw predictions - No fairness constraints, only maximizing balanced accuracy\"))\n",
    "\n",
    "metric_test_bef = compute_metrics(dataset_orig_test, dataset_orig_test_pred, \n",
    "                unprivileged_groups, privileged_groups)\n",
    "\n",
    "# Apply ROC technique\n",
    "\n",
    "# Metrics for the transformed test set\n",
    "dataset_transf_test_pred = ROC.predict(dataset_orig_test_pred)\n",
    "\n",
    "display(Markdown(\"#### Test set\"))\n",
    "display(Markdown(\"##### Transformed predictions - With fairness constraints\"))\n",
    "metric_test_aft = compute_metrics(dataset_orig_test, dataset_transf_test_pred, \n",
    "                unprivileged_groups, privileged_groups)\n",
    "\n",
    "\n",
    "\n",
    "\n",
    "\n",
    "\n",
    "metric_orig_pred = BinaryLabelDatasetMetric(dataset_transf_test_pred, \n",
    "                                             unprivileged_groups=unprivileged_groups,\n",
    "                                             privileged_groups=privileged_groups)\n",
    "print(f'The difference in mean outcomes between unprivileged and privileged groups is { metric_orig_pred.mean_difference():.6f}')"
   ]
  },
  {
   "cell_type": "code",
   "execution_count": 107,
   "metadata": {},
   "outputs": [
    {
     "name": "stdout",
     "output_type": "stream",
     "text": [
      "[0.         0.         0.         ... 0.99690828 0.99828238 1.        ]\n",
      "[0.00000000e+00 3.23729362e-04 1.18700766e-03 ... 1.00000000e+00\n",
      " 1.00000000e+00 1.00000000e+00]\n",
      "[1.99723471e+00 9.97234706e-01 9.96326960e-01 ... 4.43070639e-02\n",
      " 3.91630101e-02 4.75594632e-05]\n",
      "<class 'numpy.float64'>\n"
     ]
    },
    {
     "data": {
      "image/png": "[encoded data removed]",
      "text/plain": [
       "<Figure size 1080x720 with 1 Axes>"
      ]
     },
     "metadata": {
      "needs_background": "light"
     },
     "output_type": "display_data"
    },
    {
     "name": "stdout",
     "output_type": "stream",
     "text": [
      "False positive rate: %s 0.00034352456200618345\n",
      "True positive rate: %s 0.011006798316607317\n"
     ]
    }
   ],
   "source": [
    "fpr, tpr, thresholds = roc_curve(dataset_orig_test.labels, dataset_orig_test_pred.scores)\n",
    "print(f'{fpr}\\n{tpr}\\n{thresholds}')\n",
    "\n",
    "fpr_RF, tpr_RF, thresholds_RF = roc_curve(dataset_orig_test.labels, dataset_orig_test_pred.scores, pos_label=1)\n",
    "fpr_RF_pr, tpr_RF_pr, thresholds_RF_pr = roc_curve(test.labels, dataset_test_transformed.scores, pos_label=1)\n",
    "\n",
    "print(type(fpr_RF[0]))\n",
    "plt.figure(figsize=(15,10))\n",
    "plt.plot(fpr_RF, tpr_RF,'r-',label = f'Reject Option Classification (optimal parameters) (area={round(roc_auc_score(dataset_orig_test.labels, dataset_orig_test_pred.scores), 4)})')\n",
    "plt.plot(fpr_RF_pr, tpr_RF_pr,'b-',label = f'Predjuce Remover (eta = 15) (area={round(roc_auc_score(test.labels, dataset_test_transformed.scores), 4)})')\n",
    "plt.plot([0,1],[0,1],'k-',label='random')\n",
    "plt.legend()\n",
    "plt.xlabel('False Positive Rate')\n",
    "plt.ylabel('True Positive Rate')\n",
    "plt.rcParams.update({'font.size': 20})\n",
    "plt.savefig(\"predjuce_roc_curve_past_15_eta.svg\")\n",
    "plt.show()\n",
    "print(\"False positive rate: %s\", fpr_RF[18])\n",
    "print(\"True positive rate: %s\", tpr_RF[18])\n",
    "### ROC END"
   ]
  },
  {
   "cell_type": "code",
   "execution_count": 108,
   "metadata": {},
   "outputs": [
    {
     "data": {
      "text/markdown": [
       "#### Running the algorithm for different eta values"
      ],
      "text/plain": [
       "<IPython.core.display.Markdown object>"
      ]
     },
     "metadata": {},
     "output_type": "display_data"
    },
    {
     "name": "stdout",
     "output_type": "stream",
     "text": [
      "eta: 0.00\n",
      "accuracy: 0.78\n",
      "fdr: 0.12\n",
      "statistical parity: -0.11\n",
      "eta: 1.00\n",
      "accuracy: 0.78\n",
      "fdr: 0.12\n",
      "statistical parity: -0.09\n",
      "eta: 2.00\n",
      "accuracy: 0.77\n",
      "fdr: 0.12\n",
      "statistical parity: -0.08\n",
      "eta: 3.00\n",
      "accuracy: 0.77\n",
      "fdr: 0.12\n",
      "statistical parity: -0.08\n",
      "eta: 4.00\n",
      "accuracy: 0.77\n",
      "fdr: 0.12\n",
      "statistical parity: -0.07\n",
      "eta: 5.00\n",
      "accuracy: 0.77\n",
      "fdr: 0.12\n",
      "statistical parity: -0.05\n",
      "eta: 6.00\n",
      "accuracy: 0.77\n",
      "fdr: 0.12\n",
      "statistical parity: -0.06\n",
      "eta: 7.00\n",
      "accuracy: 0.77\n",
      "fdr: 0.12\n",
      "statistical parity: -0.06\n",
      "eta: 8.00\n",
      "accuracy: 0.77\n",
      "fdr: 0.12\n",
      "statistical parity: -0.05\n",
      "eta: 9.00\n",
      "accuracy: 0.76\n",
      "fdr: 0.12\n",
      "statistical parity: -0.05\n",
      "eta: 10.00\n",
      "accuracy: 0.76\n",
      "fdr: 0.12\n",
      "statistical parity: -0.05\n",
      "eta: 11.00\n",
      "accuracy: 0.76\n",
      "fdr: 0.12\n",
      "statistical parity: -0.05\n",
      "eta: 12.00\n",
      "accuracy: 0.76\n",
      "fdr: 0.12\n",
      "statistical parity: -0.04\n",
      "eta: 13.00\n",
      "accuracy: 0.76\n",
      "fdr: 0.12\n",
      "statistical parity: -0.04\n",
      "eta: 14.00\n",
      "accuracy: 0.76\n",
      "fdr: 0.13\n",
      "statistical parity: -0.03\n",
      "eta: 15.00\n",
      "accuracy: 0.76\n",
      "fdr: 0.13\n",
      "statistical parity: -0.03\n",
      "eta: 16.00\n",
      "accuracy: 0.76\n",
      "fdr: 0.13\n",
      "statistical parity: -0.04\n",
      "eta: 17.00\n",
      "accuracy: 0.76\n",
      "fdr: 0.13\n",
      "statistical parity: -0.03\n",
      "eta: 18.00\n",
      "accuracy: 0.76\n",
      "fdr: 0.13\n",
      "statistical parity: -0.03\n",
      "eta: 19.00\n",
      "accuracy: 0.76\n",
      "fdr: 0.13\n",
      "statistical parity: -0.03\n",
      "eta: 20.00\n",
      "accuracy: 0.76\n",
      "fdr: 0.13\n",
      "statistical parity: -0.03\n",
      "eta: 21.00\n",
      "accuracy: 0.75\n",
      "fdr: 0.13\n",
      "statistical parity: -0.02\n",
      "eta: 22.00\n",
      "accuracy: 0.75\n",
      "fdr: 0.13\n",
      "statistical parity: -0.02\n",
      "eta: 23.00\n",
      "accuracy: 0.75\n",
      "fdr: 0.13\n",
      "statistical parity: -0.02\n",
      "eta: 24.00\n",
      "accuracy: 0.75\n",
      "fdr: 0.13\n",
      "statistical parity: -0.02\n",
      "eta: 25.00\n",
      "accuracy: 0.75\n",
      "fdr: 0.13\n",
      "statistical parity: -0.02\n",
      "eta: 26.00\n",
      "accuracy: 0.75\n",
      "fdr: 0.13\n",
      "statistical parity: -0.02\n",
      "eta: 27.00\n",
      "accuracy: 0.75\n",
      "fdr: 0.13\n",
      "statistical parity: -0.02\n",
      "eta: 28.00\n",
      "accuracy: 0.75\n",
      "fdr: 0.13\n",
      "statistical parity: -0.02\n",
      "eta: 29.00\n",
      "accuracy: 0.75\n",
      "fdr: 0.13\n",
      "statistical parity: -0.02\n",
      "eta: 30.00\n",
      "accuracy: 0.75\n",
      "fdr: 0.13\n",
      "statistical parity: -0.02\n"
     ]
    }
   ],
   "source": [
    "display(Markdown(\"#### Running the algorithm for different eta values\"))\n",
    "\n",
    "accuracies, false_discovery_rates, statistical_rates, average_odds, disparate_impact, equal_opportunity, theil_index = [], [],\\\n",
    "[], [], [], [], []\n",
    "sensitive_attribute = \"Race\"\n",
    "\n",
    "eta = [1.0, 2.0, 3.0, 4.0, 5.0, 10.0, 15.0, 20.0, 30.0, 40.0, 50.0, 100.0, 150.0, 200.0, 250.0, 300.0] \n",
    "\n",
    "all_eta = np.linspace(0.0, 30, 30)\n",
    "for e in range(31):\n",
    "    print(\"eta: %.2f\" % e)\n",
    "    debiased_model = PrejudiceRemover(eta=e, sensitive_attr=sensitive_attribute)\n",
    "    debiased_model.fit(train)\n",
    "    \n",
    "    dataset_debiasing_test = debiased_model.predict(test)\n",
    "    predictions = dataset_debiasing_test.labels\n",
    "    predictions = [1 if y == train.favorable_label else -1 for y in predictions]\n",
    "    \n",
    "    classified_metric_prejudiceremover_test = ClassificationMetric(test, \n",
    "                                                 dataset_debiasing_test,\n",
    "                                                 unprivileged_groups=unprivileged_groups,\n",
    "                                                 privileged_groups=privileged_groups)\n",
    "    acc = 0.5*(classified_metric_prejudiceremover_test.true_positive_rate()+classified_metric_prejudiceremover_test.true_negative_rate())\n",
    "    sp =  classified_metric_prejudiceremover_test.mean_difference()\n",
    "    fr = classified_metric_prejudiceremover_test.false_discovery_rate()\n",
    "    eo = classified_metric_prejudiceremover_test.equal_opportunity_difference()\n",
    "    ao = classified_metric_prejudiceremover_test.average_odds_difference()\n",
    "    di = classified_metric_prejudiceremover_test.disparate_impact()\n",
    "    ti = classified_metric_prejudiceremover_test.theil_index()\n",
    "    print(\"accuracy: %.2f\" % acc)\n",
    "    print(\"fdr: %.2f\" % fr)\n",
    "    print(\"statistical parity: %.2f\" % sp)\n",
    "    \n",
    "    ## Testing\n",
    "    #assert (fr >= unconstrainedFDR)\n",
    "    \n",
    "    accuracies.append(acc)\n",
    "    false_discovery_rates.append(fr)\n",
    "    statistical_rates.append(sp)\n",
    "    equal_opportunity.append(eo)\n",
    "    average_odds.append(ao)\n",
    "    disparate_impact.append(di)\n",
    "    theil_index.append(ti)\n",
    "    "
   ]
  },
  {
   "cell_type": "code",
   "execution_count": 109,
   "metadata": {},
   "outputs": [
    {
     "data": {
      "text/plain": [
       "[0.7779310933416552,\n",
       " 0.7766522126439984,\n",
       " 0.774937193215794,\n",
       " 0.7731149605636141,\n",
       " 0.7713186204880973,\n",
       " 0.7684109635918793,\n",
       " 0.7672786767768458,\n",
       " 0.7661365447971504,\n",
       " 0.7652432973417229,\n",
       " 0.7648773544288174,\n",
       " 0.7644966437689189,\n",
       " 0.7648366941051612,\n",
       " 0.7637401450314529,\n",
       " 0.7631758230825973,\n",
       " 0.7612575020361121,\n",
       " 0.7609728797705189,\n",
       " 0.7601806432917277,\n",
       " 0.7615753027130137,\n",
       " 0.7614890594833703,\n",
       " 0.7599662168437764,\n",
       " 0.7601842862090502,\n",
       " 0.7533905653188492,\n",
       " 0.7533905653188492,\n",
       " 0.7533905653188492,\n",
       " 0.7533905653188492,\n",
       " 0.7533905653188492,\n",
       " 0.7533905653188492,\n",
       " 0.7533905653188492,\n",
       " 0.7533905653188492,\n",
       " 0.7533905653188492,\n",
       " 0.7533905653188492]"
      ]
     },
     "execution_count": 109,
     "metadata": {},
     "output_type": "execute_result"
    }
   ],
   "source": [
    "accuracies"
   ]
  },
  {
   "cell_type": "code",
   "execution_count": 140,
   "metadata": {},
   "outputs": [
    {
     "data": {
      "text/markdown": [
       "### Plot of accuracy and output fairness vs input constraint (eta)"
      ],
      "text/plain": [
       "<IPython.core.display.Markdown object>"
      ]
     },
     "metadata": {},
     "output_type": "display_data"
    },
    {
     "data": {
      "text/markdown": [
       "#### The graph illustrates the affect on fairness metrics for various values of eta"
      ],
      "text/plain": [
       "<IPython.core.display.Markdown object>"
      ]
     },
     "metadata": {},
     "output_type": "display_data"
    },
    {
     "data": {
      "image/png": "[encoded data removed]",
      "text/plain": [
       "<Figure size 1080x576 with 2 Axes>"
      ]
     },
     "metadata": {
      "needs_background": "light"
     },
     "output_type": "display_data"
    }
   ],
   "source": [
    "all_eta = np.linspace(0, 30, 31)\n",
    "#metrics = [false_discovery_rates, statistical_rates, average_odds, disparate_impact, equal_opportunity]\n",
    "metrics = {'statistical parity': ('x', statistical_rates, 'g'), 'average odds difference': ('o', average_odds, 'y'),\\\n",
    "           'equal opportunity': ('s', equal_opportunity, \"b\" )}\n",
    "\n",
    "# 'false discovery rates': ('o', false_discovery_rates),\n",
    "# 'disparate impact': ('+', disparate_impact),\n",
    "display(Markdown(\"### Plot of accuracy and output fairness vs input constraint (eta)\"))\n",
    "\n",
    "display(Markdown(\"#### The graph illustrates the affect on fairness metrics for various values of eta\"))\n",
    "\n",
    "fig, ax1 = plt.subplots(figsize=(15,8))\n",
    "ax1.plot(all_eta, accuracies, color='r')\n",
    "ax1.set_title('Accuracy and fairness metrics vs eta', fontsize=16, fontweight='bold')\n",
    "ax1.set_xlabel('Input eta', fontsize=16, fontweight='bold')\n",
    "ax1.set_ylabel('Balanced accuracy', color='r', fontsize=16, fontweight='bold')\n",
    "ax1.xaxis.set_tick_params(labelsize=14)\n",
    "ax1.yaxis.set_tick_params(labelsize=14)\n",
    "\n",
    "for i in [1, 5, 10, 15, 20, 25, 30]:\n",
    "\n",
    "    label = \"{:.3f}\".format(accuracies[i])\n",
    "\n",
    "    plt.annotate(label,\n",
    "                 (i, accuracies[i],),\n",
    "                 textcoords=\"offset points\",\n",
    "                 xytext=(0,-18),\n",
    "                 ha='center')\n",
    "\n",
    "ax2 = ax1.twinx()\n",
    "ax2.plot(all_eta,  statistical_rates, color='g')\n",
    "ax2.plot(all_eta,  equal_opportunity, color='b')\n",
    "ax2.plot(all_eta,  average_odds, color='y')\n",
    "i = 0\n",
    "for metric in metrics:\n",
    "    for m in metrics[metric][1]:\n",
    "        if i in [1, 5, 10, 15, 20, 25, 30]:\n",
    "            plt.plot(all_eta[i], m, marker=metrics[metric][0], color=metrics[metric][2], label=metric if i == 1 else \"\")\n",
    "            if i == 0:\n",
    "                if metric != 'average odds difference':\n",
    "                    plt.text(all_eta[i] * (1 + 0.01), m * (1 + 0.3) , round(m, 3), fontsize=12)\n",
    "                else:\n",
    "                    plt.text(all_eta[i] * (1 + 0.01), m * (1 + 0.01) , round(m, 3), fontsize=12)\n",
    "            else:\n",
    "                plt.text(all_eta[i] * (1 + 0.01), m * (1 + 0.01) , round(m, 3), fontsize=12)\n",
    "        i = i + 1\n",
    "    i = 0\n",
    "    #plt.plot(all_eta, metrics[metric][1], metrics[metric][0], label=metric)\n",
    "ax2.set_ylabel('closer to 0 is better', color='b', fontsize=16, fontweight='bold')\n",
    "ax2.yaxis.set_tick_params(labelsize=14)\n",
    "ax2.yaxis.set_major_formatter(FormatStrFormatter('%.4f'))\n",
    "#ax2.yaxis.set_major_locator(ticker.MultipleLocator(0.1))\n",
    "\n",
    "\n",
    "plt.rcParams.update({'font.size': 12})\n",
    "plt.legend(loc='center', bbox_to_anchor=(0.5,0.07), numpoints=1)\n",
    "yabs_max = abs(max(ax2.get_ylim(), key=abs))\n",
    "ax2.set_ylim(ymin=-yabs_max, ymax=yabs_max)\n",
    "ax2.grid(True)\n",
    "\n",
    "plt.savefig(\"fairness_pr__roc_small.svg\")"
   ]
  },
  {
   "cell_type": "code",
   "execution_count": 126,
   "metadata": {},
   "outputs": [
    {
     "name": "stdout",
     "output_type": "stream",
     "text": [
      "0 Accuracy:    0.7779    St.parity:   -0.1052    Eq.opp:   -0.0517    Eq.odds:   -0.0594    D_impact:    0.8736\n",
      "1 Accuracy:    0.7767    St.parity:   -0.0902    Eq.opp:   -0.0386    Eq.odds:   -0.0433    D_impact:    0.8914\n",
      "2 Accuracy:    0.7749    St.parity:   -0.0790    Eq.opp:   -0.0320    Eq.odds:   -0.0294    D_impact:    0.9048\n",
      "3 Accuracy:    0.7731    St.parity:   -0.0755    Eq.opp:   -0.0316    Eq.odds:   -0.0242    D_impact:    0.9091\n",
      "4 Accuracy:    0.7713    St.parity:   -0.0662    Eq.opp:   -0.0265    Eq.odds:   -0.0124    D_impact:    0.9203\n",
      "5 Accuracy:    0.7684    St.parity:   -0.0519    Eq.opp:   -0.0187    Eq.odds:    0.0058    D_impact:    0.9376\n",
      "6 Accuracy:    0.7673    St.parity:   -0.0555    Eq.opp:   -0.0238    Eq.odds:    0.0027    D_impact:    0.9332\n",
      "7 Accuracy:    0.7661    St.parity:   -0.0558    Eq.opp:   -0.0249    Eq.odds:    0.0027    D_impact:    0.9329\n",
      "8 Accuracy:    0.7652    St.parity:   -0.0543    Eq.opp:   -0.0241    Eq.odds:    0.0045    D_impact:    0.9348\n",
      "9 Accuracy:    0.7649    St.parity:   -0.0528    Eq.opp:   -0.0238    Eq.odds:    0.0067    D_impact:    0.9366\n",
      "10 Accuracy:    0.7645    St.parity:   -0.0510    Eq.opp:   -0.0232    Eq.odds:    0.0092    D_impact:    0.9387\n",
      "11 Accuracy:    0.7648    St.parity:   -0.0495    Eq.opp:   -0.0225    Eq.odds:    0.0114    D_impact:    0.9404\n",
      "12 Accuracy:    0.7637    St.parity:   -0.0420    Eq.opp:   -0.0189    Eq.odds:    0.0214    D_impact:    0.9494\n",
      "13 Accuracy:    0.7632    St.parity:   -0.0406    Eq.opp:   -0.0184    Eq.odds:    0.0232    D_impact:    0.9510\n",
      "14 Accuracy:    0.7613    St.parity:   -0.0323    Eq.opp:   -0.0147    Eq.odds:    0.0343    D_impact:    0.9611\n",
      "15 Accuracy:    0.7610    St.parity:   -0.0317    Eq.opp:   -0.0146    Eq.odds:    0.0351    D_impact:    0.9617\n",
      "16 Accuracy:    0.7602    St.parity:   -0.0351    Eq.opp:   -0.0190    Eq.odds:    0.0322    D_impact:    0.9576\n",
      "17 Accuracy:    0.7616    St.parity:   -0.0326    Eq.opp:   -0.0183    Eq.odds:    0.0364    D_impact:    0.9606\n",
      "18 Accuracy:    0.7615    St.parity:   -0.0327    Eq.opp:   -0.0184    Eq.odds:    0.0362    D_impact:    0.9604\n",
      "19 Accuracy:    0.7600    St.parity:   -0.0292    Eq.opp:   -0.0190    Eq.odds:    0.0421    D_impact:    0.9646\n",
      "20 Accuracy:    0.7602    St.parity:   -0.0271    Eq.opp:   -0.0174    Eq.odds:    0.0447    D_impact:    0.9672\n",
      "21 Accuracy:    0.7534    St.parity:   -0.0243    Eq.opp:   -0.0236    Eq.odds:    0.0517    D_impact:    0.9705\n",
      "22 Accuracy:    0.7534    St.parity:   -0.0243    Eq.opp:   -0.0236    Eq.odds:    0.0517    D_impact:    0.9705\n",
      "23 Accuracy:    0.7534    St.parity:   -0.0243    Eq.opp:   -0.0236    Eq.odds:    0.0517    D_impact:    0.9705\n",
      "24 Accuracy:    0.7534    St.parity:   -0.0243    Eq.opp:   -0.0236    Eq.odds:    0.0517    D_impact:    0.9705\n",
      "25 Accuracy:    0.7534    St.parity:   -0.0243    Eq.opp:   -0.0236    Eq.odds:    0.0517    D_impact:    0.9705\n",
      "26 Accuracy:    0.7534    St.parity:   -0.0243    Eq.opp:   -0.0236    Eq.odds:    0.0517    D_impact:    0.9705\n",
      "27 Accuracy:    0.7534    St.parity:   -0.0243    Eq.opp:   -0.0236    Eq.odds:    0.0517    D_impact:    0.9705\n",
      "28 Accuracy:    0.7534    St.parity:   -0.0243    Eq.opp:   -0.0236    Eq.odds:    0.0517    D_impact:    0.9705\n",
      "29 Accuracy:    0.7534    St.parity:   -0.0243    Eq.opp:   -0.0236    Eq.odds:    0.0517    D_impact:    0.9705\n",
      "30 Accuracy:    0.7534    St.parity:   -0.0243    Eq.opp:   -0.0236    Eq.odds:    0.0517    D_impact:    0.9705\n"
     ]
    }
   ],
   "source": [
    "for i in range(31):\n",
    "    print(f'{i} Accuracy: {accuracies[i]:9.4f}\\\n",
    "    St.parity: {statistical_rates[i]:9.4f}\\\n",
    "    Eq.opp: {equal_opportunity[i]:9.4f}\\\n",
    "    Eq.odds: {average_odds[i]:9.4f}\\\n",
    "    D_impact: {disparate_impact[i]:9.4f}')"
   ]
  },
  {
   "cell_type": "code",
   "execution_count": 177,
   "metadata": {},
   "outputs": [
    {
     "name": "stdout",
     "output_type": "stream",
     "text": [
      "0.12615453931065557\n"
     ]
    }
   ],
   "source": [
    "print(false_discovery_rates[20])"
   ]
  },
  {
   "cell_type": "code",
   "execution_count": null,
   "metadata": {},
   "outputs": [],
   "source": []
  },
  {
   "cell_type": "code",
   "execution_count": null,
   "metadata": {},
   "outputs": [],
   "source": []
  },
  {
   "cell_type": "code",
   "execution_count": null,
   "metadata": {},
   "outputs": [],
   "source": []
  },
  {
   "cell_type": "code",
   "execution_count": null,
   "metadata": {},
   "outputs": [],
   "source": []
  },
  {
   "cell_type": "code",
   "execution_count": null,
   "metadata": {},
   "outputs": [],
   "source": [
    "\n"
   ]
  },
  {
   "cell_type": "code",
   "execution_count": null,
   "metadata": {},
   "outputs": [],
   "source": []
  }
 ],
 "metadata": {
  "kernelspec": {
   "display_name": ".venv",
   "language": "python",
   "name": ".venv"
  },
  "language_info": {
   "codemirror_mode": {
    "name": "ipython",
    "version": 3
   },
   "file_extension": ".py",
   "mimetype": "text/x-python",
   "name": "python",
   "nbconvert_exporter": "python",
   "pygments_lexer": "ipython3",
   "version": "3.6.9"
  }
 },
 "nbformat": 4,
 "nbformat_minor": 2
}
